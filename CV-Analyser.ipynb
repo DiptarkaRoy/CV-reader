{
 "cells": [
  {
   "cell_type": "markdown",
   "id": "82565d7a",
   "metadata": {
    "execution": {
     "iopub.execute_input": "2022-07-25T06:21:58.586383Z",
     "iopub.status.busy": "2022-07-25T06:21:58.586054Z",
     "iopub.status.idle": "2022-07-25T06:21:58.591776Z",
     "shell.execute_reply": "2022-07-25T06:21:58.590558Z",
     "shell.execute_reply.started": "2022-07-25T06:21:58.586356Z"
    },
    "papermill": {
     "duration": 0.006764,
     "end_time": "2022-08-27T12:10:24.301890",
     "exception": false,
     "start_time": "2022-08-27T12:10:24.295126",
     "status": "completed"
    },
    "tags": []
   },
   "source": [
    "**Locating** the CV Files"
   ]
  },
  {
   "cell_type": "code",
   "execution_count": 1,
   "id": "1bd6d043",
   "metadata": {
    "_cell_guid": "b1076dfc-b9ad-4769-8c92-a6c4dae69d19",
    "_uuid": "8f2839f25d086af736a60e9eeb907d3b93b6e0e5",
    "execution": {
     "iopub.execute_input": "2022-08-27T12:10:24.315139Z",
     "iopub.status.busy": "2022-08-27T12:10:24.314504Z",
     "iopub.status.idle": "2022-08-27T12:10:24.347101Z",
     "shell.execute_reply": "2022-08-27T12:10:24.346210Z"
    },
    "papermill": {
     "duration": 0.04217,
     "end_time": "2022-08-27T12:10:24.349667",
     "exception": false,
     "start_time": "2022-08-27T12:10:24.307497",
     "status": "completed"
    },
    "tags": []
   },
   "outputs": [
    {
     "data": {
      "text/plain": [
       "['/kaggle/input/cvresume/debika_piriya_dharmalingam - debika piriya.pdf',\n",
       " '/kaggle/input/cvresume/23.pdf',\n",
       " '/kaggle/input/cvresume/25.pdf',\n",
       " '/kaggle/input/cvresume/31.pdf',\n",
       " '/kaggle/input/cvresume/30.pdf',\n",
       " '/kaggle/input/cvresume/24.pdf',\n",
       " '/kaggle/input/cvresume/15.pdf',\n",
       " '/kaggle/input/cvresume/5.pdf',\n",
       " '/kaggle/input/cvresume/29.pdf',\n",
       " '/kaggle/input/cvresume/8.pdf',\n",
       " '/kaggle/input/cvresume/14.pdf',\n",
       " '/kaggle/input/cvresume/17.pdf',\n",
       " '/kaggle/input/cvresume/27.pdf',\n",
       " '/kaggle/input/cvresume/20.pdf',\n",
       " '/kaggle/input/cvresume/26.pdf',\n",
       " '/kaggle/input/cvresume/12.pdf',\n",
       " '/kaggle/input/cvresume/4.pdf',\n",
       " '/kaggle/input/cvresume/19.pdf',\n",
       " '/kaggle/input/cvresume/1.pdf',\n",
       " '/kaggle/input/cvresume/10.pdf',\n",
       " '/kaggle/input/cvresume/22.pdf',\n",
       " '/kaggle/input/cvresume/21.pdf',\n",
       " '/kaggle/input/cvresume/32.pdf',\n",
       " '/kaggle/input/cvresume/28.pdf',\n",
       " '/kaggle/input/cvresume/33.PDF',\n",
       " '/kaggle/input/cvresume/13.pdf',\n",
       " '/kaggle/input/cvresume/16.pdf',\n",
       " '/kaggle/input/cvresume/35.pdf',\n",
       " '/kaggle/input/cvresume/11.pdf',\n",
       " '/kaggle/input/cvresume/3.pdf',\n",
       " '/kaggle/input/cvresume/2.pdf',\n",
       " '/kaggle/input/cvresume/18.pdf']"
      ]
     },
     "execution_count": 1,
     "metadata": {},
     "output_type": "execute_result"
    }
   ],
   "source": [
    "import os\n",
    "files=[]\n",
    "for dirname, _, filenames in os.walk('/kaggle/input'):\n",
    "    for filename in filenames:\n",
    "        files+=[os.path.join(dirname, filename)]\n",
    "files"
   ]
  },
  {
   "cell_type": "markdown",
   "id": "3cc23b60",
   "metadata": {
    "papermill": {
     "duration": 0.00538,
     "end_time": "2022-08-27T12:10:24.360952",
     "exception": false,
     "start_time": "2022-08-27T12:10:24.355572",
     "status": "completed"
    },
    "tags": []
   },
   "source": [
    "Installing PyPDF2"
   ]
  },
  {
   "cell_type": "code",
   "execution_count": 2,
   "id": "936e1adc",
   "metadata": {
    "execution": {
     "iopub.execute_input": "2022-08-27T12:10:24.374596Z",
     "iopub.status.busy": "2022-08-27T12:10:24.373931Z",
     "iopub.status.idle": "2022-08-27T12:10:50.175600Z",
     "shell.execute_reply": "2022-08-27T12:10:50.174187Z"
    },
    "papermill": {
     "duration": 25.812095,
     "end_time": "2022-08-27T12:10:50.178760",
     "exception": false,
     "start_time": "2022-08-27T12:10:24.366665",
     "status": "completed"
    },
    "tags": []
   },
   "outputs": [
    {
     "name": "stdout",
     "output_type": "stream",
     "text": [
      "Collecting PyPDF2\r\n",
      "  Downloading PyPDF2-2.10.3-py3-none-any.whl (214 kB)\r\n",
      "\u001b[2K     \u001b[90m━━━━━━━━━━━━━━━━━━━━━━━━━━━━━━━━━━━━━\u001b[0m \u001b[32m214.3/214.3 kB\u001b[0m \u001b[31m968.3 kB/s\u001b[0m eta \u001b[36m0:00:00\u001b[0m\r\n",
      "\u001b[?25hRequirement already satisfied: typing-extensions in /opt/conda/lib/python3.7/site-packages (from PyPDF2) (4.1.1)\r\n",
      "Installing collected packages: PyPDF2\r\n",
      "Successfully installed PyPDF2-2.10.3\r\n",
      "\u001b[33mWARNING: Running pip as the 'root' user can result in broken permissions and conflicting behaviour with the system package manager. It is recommended to use a virtual environment instead: https://pip.pypa.io/warnings/venv\u001b[0m\u001b[33m\r\n",
      "\u001b[0mRequirement already satisfied: transformers in /opt/conda/lib/python3.7/site-packages (4.20.1)\r\n",
      "Requirement already satisfied: tqdm>=4.27 in /opt/conda/lib/python3.7/site-packages (from transformers) (4.64.0)\r\n",
      "Requirement already satisfied: importlib-metadata in /opt/conda/lib/python3.7/site-packages (from transformers) (4.12.0)\r\n",
      "Requirement already satisfied: regex!=2019.12.17 in /opt/conda/lib/python3.7/site-packages (from transformers) (2021.11.10)\r\n",
      "Requirement already satisfied: pyyaml>=5.1 in /opt/conda/lib/python3.7/site-packages (from transformers) (6.0)\r\n",
      "Requirement already satisfied: packaging>=20.0 in /opt/conda/lib/python3.7/site-packages (from transformers) (21.3)\r\n",
      "Requirement already satisfied: huggingface-hub<1.0,>=0.1.0 in /opt/conda/lib/python3.7/site-packages (from transformers) (0.8.1)\r\n",
      "Requirement already satisfied: numpy>=1.17 in /opt/conda/lib/python3.7/site-packages (from transformers) (1.21.6)\r\n",
      "Requirement already satisfied: requests in /opt/conda/lib/python3.7/site-packages (from transformers) (2.28.1)\r\n",
      "Requirement already satisfied: filelock in /opt/conda/lib/python3.7/site-packages (from transformers) (3.7.1)\r\n",
      "Requirement already satisfied: tokenizers!=0.11.3,<0.13,>=0.11.1 in /opt/conda/lib/python3.7/site-packages (from transformers) (0.12.1)\r\n",
      "Requirement already satisfied: typing-extensions>=3.7.4.3 in /opt/conda/lib/python3.7/site-packages (from huggingface-hub<1.0,>=0.1.0->transformers) (4.1.1)\r\n",
      "Requirement already satisfied: pyparsing!=3.0.5,>=2.0.2 in /opt/conda/lib/python3.7/site-packages (from packaging>=20.0->transformers) (3.0.9)\r\n",
      "Requirement already satisfied: zipp>=0.5 in /opt/conda/lib/python3.7/site-packages (from importlib-metadata->transformers) (3.8.0)\r\n",
      "Requirement already satisfied: charset-normalizer<3,>=2 in /opt/conda/lib/python3.7/site-packages (from requests->transformers) (2.1.0)\r\n",
      "Requirement already satisfied: idna<4,>=2.5 in /opt/conda/lib/python3.7/site-packages (from requests->transformers) (3.3)\r\n",
      "Requirement already satisfied: certifi>=2017.4.17 in /opt/conda/lib/python3.7/site-packages (from requests->transformers) (2022.6.15)\r\n",
      "Requirement already satisfied: urllib3<1.27,>=1.21.1 in /opt/conda/lib/python3.7/site-packages (from requests->transformers) (1.26.9)\r\n",
      "\u001b[33mWARNING: Running pip as the 'root' user can result in broken permissions and conflicting behaviour with the system package manager. It is recommended to use a virtual environment instead: https://pip.pypa.io/warnings/venv\u001b[0m\u001b[33m\r\n",
      "\u001b[0m"
     ]
    }
   ],
   "source": [
    "!pip install PyPDF2\n",
    "!pip install transformers"
   ]
  },
  {
   "cell_type": "markdown",
   "id": "ab47a7d9",
   "metadata": {
    "papermill": {
     "duration": 0.006613,
     "end_time": "2022-08-27T12:10:50.192456",
     "exception": false,
     "start_time": "2022-08-27T12:10:50.185843",
     "status": "completed"
    },
    "tags": []
   },
   "source": [
    "Importing PyPDF2 and Others"
   ]
  },
  {
   "cell_type": "code",
   "execution_count": 3,
   "id": "cc509e80",
   "metadata": {
    "execution": {
     "iopub.execute_input": "2022-08-27T12:10:50.209211Z",
     "iopub.status.busy": "2022-08-27T12:10:50.208694Z",
     "iopub.status.idle": "2022-08-27T12:11:25.758012Z",
     "shell.execute_reply": "2022-08-27T12:11:25.756601Z"
    },
    "papermill": {
     "duration": 35.561258,
     "end_time": "2022-08-27T12:11:25.760676",
     "exception": false,
     "start_time": "2022-08-27T12:10:50.199418",
     "status": "completed"
    },
    "tags": []
   },
   "outputs": [
    {
     "data": {
      "application/vnd.jupyter.widget-view+json": {
       "model_id": "6620b07342d14a059237c4f03610bff2",
       "version_major": 2,
       "version_minor": 0
      },
      "text/plain": [
       "Downloading:   0%|          | 0.00/226k [00:00<?, ?B/s]"
      ]
     },
     "metadata": {},
     "output_type": "display_data"
    },
    {
     "data": {
      "application/vnd.jupyter.widget-view+json": {
       "model_id": "91d9b4e907a7479f8ce96cbe3ac560ae",
       "version_major": 2,
       "version_minor": 0
      },
      "text/plain": [
       "Downloading:   0%|          | 0.00/28.0 [00:00<?, ?B/s]"
      ]
     },
     "metadata": {},
     "output_type": "display_data"
    },
    {
     "data": {
      "application/vnd.jupyter.widget-view+json": {
       "model_id": "d4c99766d12a4a998bbe9230090c963a",
       "version_major": 2,
       "version_minor": 0
      },
      "text/plain": [
       "Downloading:   0%|          | 0.00/483 [00:00<?, ?B/s]"
      ]
     },
     "metadata": {},
     "output_type": "display_data"
    },
    {
     "data": {
      "application/vnd.jupyter.widget-view+json": {
       "model_id": "5251fa710d484e58b070cc1510509a58",
       "version_major": 2,
       "version_minor": 0
      },
      "text/plain": [
       "Downloading:   0%|          | 0.00/256M [00:00<?, ?B/s]"
      ]
     },
     "metadata": {},
     "output_type": "display_data"
    },
    {
     "name": "stderr",
     "output_type": "stream",
     "text": [
      "Some weights of the model checkpoint at distilbert-base-uncased were not used when initializing DistilBertModel: ['vocab_layer_norm.weight', 'vocab_projector.bias', 'vocab_transform.bias', 'vocab_layer_norm.bias', 'vocab_projector.weight', 'vocab_transform.weight']\n",
      "- This IS expected if you are initializing DistilBertModel from the checkpoint of a model trained on another task or with another architecture (e.g. initializing a BertForSequenceClassification model from a BertForPreTraining model).\n",
      "- This IS NOT expected if you are initializing DistilBertModel from the checkpoint of a model that you expect to be exactly identical (initializing a BertForSequenceClassification model from a BertForSequenceClassification model).\n"
     ]
    },
    {
     "data": {
      "text/plain": [
       "' Debika piriya Dharmalingam Contact no.:9080686399 Email: debika.piriyad@gmail.com Linkedin:www.linkedin.com/in/debikapiriya-dharmalingam I’m a growth oriented individual who is currently pursuing bachelors in IT and actively looking for internship opportunities in the software development field. I love to logically think and critically analyze the given problem and crack the solution. I’m an active self learner and believe in improvising the world through my knowledge  ● EDUCATION ○ Bachelors of Technology, BTech —information technology ,2020-2024           Sri Siva Subramaniya Nadar college of Engineering,SSNCE ○ Higher secondary education(class 12) 2018-2020,Chennai public school ○ High school(class 10) 2018, Everwin Vidhyashram     ● TEST SCORES ○ Btech (till 3rd semester)- 9.3 cgpa ○ Class 12- 480/500 ○ Class 10- 474/500-Secured school first  ○ JEE- 89.967 percentile( overall India)   ● PROJECTS ○ Map navigator for optimal traverse: ■ (2022)- 4th semester ■ Used python libraries,HTML and data structures  ■ Project description: Maps are widely used technology in general. Here we attempt to get input as source, destination and any other places to be visited from the user. There on, we use folium library , graph data structure and dijistra’s algorithm to compute shortest path between source and destination via the place(if any) preferred by user in openstreet map(HTML) \\n'"
      ]
     },
     "execution_count": 3,
     "metadata": {},
     "output_type": "execute_result"
    }
   ],
   "source": [
    "from PyPDF2 import PdfReader\n",
    "from sklearn.model_selection import train_test_split\n",
    "from sklearn.linear_model import LogisticRegression\n",
    "from sklearn.model_selection import GridSearchCV\n",
    "from sklearn.model_selection import cross_val_score\n",
    "import torch\n",
    "import transformers as ppb\n",
    "import warnings\n",
    "warnings.filterwarnings('ignore')   \n",
    "\n",
    "# For DistilBERT:\n",
    "model_class, tokenizer_class, pretrained_weights = (ppb.DistilBertModel, ppb.DistilBertTokenizer, 'distilbert-base-uncased')\n",
    "\n",
    "## Want BERT instead of distilBERT? Uncomment the following line:\n",
    "#model_class, tokenizer_class, pretrained_weights = (ppb.BertModel, ppb.BertTokenizer, 'bert-base-uncased')\n",
    "\n",
    "# Load pretrained model/tokenizer\n",
    "tokenizer = tokenizer_class.from_pretrained(pretrained_weights)\n",
    "model = model_class.from_pretrained(pretrained_weights)\n",
    "reader = PdfReader(\"/kaggle/input/cvresume/debika_piriya_dharmalingam - debika piriya.pdf\")\n",
    "\n",
    "text=reader.pages[0].extract_text()\n",
    "text"
   ]
  },
  {
   "cell_type": "markdown",
   "id": "2f90cf69",
   "metadata": {
    "papermill": {
     "duration": 0.007636,
     "end_time": "2022-08-27T12:11:25.775933",
     "exception": false,
     "start_time": "2022-08-27T12:11:25.768297",
     "status": "completed"
    },
    "tags": []
   },
   "source": [
    "# Importing Spacy for NLP processing and tokenising CV text"
   ]
  },
  {
   "cell_type": "code",
   "execution_count": 4,
   "id": "abcd8c91",
   "metadata": {
    "execution": {
     "iopub.execute_input": "2022-08-27T12:11:25.794080Z",
     "iopub.status.busy": "2022-08-27T12:11:25.793134Z",
     "iopub.status.idle": "2022-08-27T12:11:36.098720Z",
     "shell.execute_reply": "2022-08-27T12:11:36.097453Z"
    },
    "papermill": {
     "duration": 10.317852,
     "end_time": "2022-08-27T12:11:36.101571",
     "exception": false,
     "start_time": "2022-08-27T12:11:25.783719",
     "status": "completed"
    },
    "tags": []
   },
   "outputs": [
    {
     "data": {
      "text/plain": [
       " Debika piriya Dharmalingam Contact no.:9080686399 Email: debika.piriyad@gmail.com Linkedin:www.linkedin.com/in/debikapiriya-dharmalingam I’m a growth oriented individual who is currently pursuing bachelors in IT and actively looking for internship opportunities in the software development field. I love to logically think and critically analyze the given problem and crack the solution. I’m an active self learner and believe in improvising the world through my knowledge  ● EDUCATION ○ Bachelors of Technology, BTech —information technology ,2020-2024           Sri Siva Subramaniya Nadar college of Engineering,SSNCE ○ Higher secondary education(class 12) 2018-2020,Chennai public school ○ High school(class 10) 2018, Everwin Vidhyashram     ● TEST SCORES ○ Btech (till 3rd semester)- 9.3 cgpa ○ Class 12- 480/500 ○ Class 10- 474/500-Secured school first  ○ JEE- 89.967 percentile( overall India)   ● PROJECTS ○ Map navigator for optimal traverse: ■ (2022)- 4th semester ■ Used python libraries,HTML and data structures  ■ Project description: Maps are widely used technology in general. Here we attempt to get input as source, destination and any other places to be visited from the user. There on, we use folium library , graph data structure and dijistra’s algorithm to compute shortest path between source and destination via the place(if any) preferred by user in openstreet map(HTML) "
      ]
     },
     "execution_count": 4,
     "metadata": {},
     "output_type": "execute_result"
    }
   ],
   "source": [
    "import spacy\n",
    "nlp = spacy.load(\"en_core_web_sm\")\n",
    "doc=nlp(text)\n",
    "doc"
   ]
  },
  {
   "cell_type": "markdown",
   "id": "67bf0c2c",
   "metadata": {
    "papermill": {
     "duration": 0.00731,
     "end_time": "2022-08-27T12:11:36.116818",
     "exception": false,
     "start_time": "2022-08-27T12:11:36.109508",
     "status": "completed"
    },
    "tags": []
   },
   "source": [
    "# Preprocessing our text:\n",
    "\n",
    "1. **Removing unnecessary tokens that we do not need:**\n",
    "We do not need punctuation, currency, digits, spaces, stopwords, and anything which is not alphabetical. Hence we should remove them. We also remove single letters.\n",
    "2. **Lemmatising while adding word tokens to list:** \n",
    "While appending the tokens we are appending the word lemma, this way we ensure that we arent introducing two different words meaning the same.\n",
    "3. **We use set datastructure to create unique keywords only:** This is done by list(set(_variable_name_)) method\n",
    "\n",
    "> This entire process is done by create_tokens() function"
   ]
  },
  {
   "cell_type": "code",
   "execution_count": 5,
   "id": "07adcbe8",
   "metadata": {
    "execution": {
     "iopub.execute_input": "2022-08-27T12:11:36.133781Z",
     "iopub.status.busy": "2022-08-27T12:11:36.133310Z",
     "iopub.status.idle": "2022-08-27T12:11:36.142217Z",
     "shell.execute_reply": "2022-08-27T12:11:36.140863Z"
    },
    "papermill": {
     "duration": 0.021102,
     "end_time": "2022-08-27T12:11:36.145437",
     "exception": false,
     "start_time": "2022-08-27T12:11:36.124335",
     "status": "completed"
    },
    "tags": []
   },
   "outputs": [
    {
     "name": "stdout",
     "output_type": "stream",
     "text": [
      "['improvise', 'High', 'till', 'Project', 'path', 'Everwin', 'destination', 'love', 'openstreet', 'Contact', 'navigator', 'email', 'high', 'general', 'Technology', 'orient', 'technology', 'dharmalingam', 'school', 'attempt', 'input', 'self', 'Linkedin', 'Bachelors', 'opportunity', 'dijistra', 'growth', 'percentile', 'solution', 'knowledge', 'secondary', 'traverse', 'India', 'look', 'software', 'public', 'piriya', 'widely', 'learner', 'Nadar', 'python', 'Debika', 'short', 'individual', 'map', 'algorithm', 'html', 'logically', 'believe', 'overall', 'visit', 'BTech', 'debikapiriya', 'Siva', 'Map', 'actively', 'SCORES', 'critically', 'PROJECTS', 'pursue', 'Class', 'cgpa', 'library', 'SSNCE', 'description', 'analyze', 'source', 'development', 'semester', 'structure', 'folium', 'user', 'EDUCATION', 'Engineering', 'crack', 'Sri', 'TEST', 'prefer', 'give', 'field', 'bachelor', 'data', 'think', 'college', 'Btech', 'Subramaniya', 'secure', 'internship', 'use', 'information', 'Dharmalingam', 'optimal', 'compute', 'graph', 'currently', 'place', 'world', 'problem', 'active', 'Vidhyashram']\n"
     ]
    }
   ],
   "source": [
    "tokens=[]\n",
    "def create_tokens(doc):\n",
    "    tokens=[]\n",
    "    for token in doc:\n",
    "        if not token.is_punct and not token.is_currency and not token.is_digit and not token.is_space and not token.is_stop and not token.like_num and token.is_alpha and len(token)>1:\n",
    "#             print(token.text, token.lemma_, token.pos_, token.tag_, token.dep_,token.shape_, token.is_alpha, token.is_stop)\n",
    "            tokens.append(token.lemma_)\n",
    "\n",
    "    tokens=list(set(tokens))\n",
    "    return tokens\n",
    "tokens=create_tokens(doc)\n",
    "print(tokens)"
   ]
  },
  {
   "cell_type": "markdown",
   "id": "47fa07d3",
   "metadata": {
    "papermill": {
     "duration": 0.007275,
     "end_time": "2022-08-27T12:11:36.162159",
     "exception": false,
     "start_time": "2022-08-27T12:11:36.154884",
     "status": "completed"
    },
    "tags": []
   },
   "source": [
    "# Preprocessing tokens for Multiple Files"
   ]
  },
  {
   "cell_type": "markdown",
   "id": "3489d357",
   "metadata": {
    "papermill": {
     "duration": 0.008032,
     "end_time": "2022-08-27T12:11:36.177958",
     "exception": false,
     "start_time": "2022-08-27T12:11:36.169926",
     "status": "completed"
    },
    "tags": []
   },
   "source": [
    "In this section, we do the following\n",
    "1. We read each pdf file. \n",
    "2. Tokenise each of them using the create_tokens() function.\n",
    "3. Print them."
   ]
  },
  {
   "cell_type": "code",
   "execution_count": 6,
   "id": "678f167b",
   "metadata": {
    "execution": {
     "iopub.execute_input": "2022-08-27T12:11:36.195935Z",
     "iopub.status.busy": "2022-08-27T12:11:36.195069Z",
     "iopub.status.idle": "2022-08-27T12:11:44.902373Z",
     "shell.execute_reply": "2022-08-27T12:11:44.901119Z"
    },
    "papermill": {
     "duration": 8.719352,
     "end_time": "2022-08-27T12:11:44.905152",
     "exception": false,
     "start_time": "2022-08-27T12:11:36.185800",
     "status": "completed"
    },
    "tags": []
   },
   "outputs": [
    {
     "data": {
      "text/html": [
       "<div>\n",
       "<style scoped>\n",
       "    .dataframe tbody tr th:only-of-type {\n",
       "        vertical-align: middle;\n",
       "    }\n",
       "\n",
       "    .dataframe tbody tr th {\n",
       "        vertical-align: top;\n",
       "    }\n",
       "\n",
       "    .dataframe thead th {\n",
       "        text-align: right;\n",
       "    }\n",
       "</style>\n",
       "<table border=\"1\" class=\"dataframe\">\n",
       "  <thead>\n",
       "    <tr style=\"text-align: right;\">\n",
       "      <th></th>\n",
       "      <th>File</th>\n",
       "      <th>Tokens</th>\n",
       "    </tr>\n",
       "  </thead>\n",
       "  <tbody>\n",
       "    <tr>\n",
       "      <th>0</th>\n",
       "      <td>/kaggle/input/cvresume/debika_piriya_dharmalin...</td>\n",
       "      <td>[101, 100, 100, 6229, 100, 4130, 100, 7688, 22...</td>\n",
       "    </tr>\n",
       "    <tr>\n",
       "      <th>1</th>\n",
       "      <td>/kaggle/input/cvresume/23.pdf</td>\n",
       "      <td>[101, 100, 2613, 100, 100, 100, 4613, 100, 100...</td>\n",
       "    </tr>\n",
       "    <tr>\n",
       "      <th>2</th>\n",
       "      <td>/kaggle/input/cvresume/25.pdf</td>\n",
       "      <td>[101, 4145, 100, 2476, 10616, 7427, 100, 4044,...</td>\n",
       "    </tr>\n",
       "    <tr>\n",
       "      <th>3</th>\n",
       "      <td>/kaggle/input/cvresume/31.pdf</td>\n",
       "      <td>[101, 100, 2946, 3191, 100, 100, 2612, 3857, 1...</td>\n",
       "    </tr>\n",
       "    <tr>\n",
       "      <th>4</th>\n",
       "      <td>/kaggle/input/cvresume/30.pdf</td>\n",
       "      <td>[101, 100, 100, 100, 100, 2110, 3716, 100, 304...</td>\n",
       "    </tr>\n",
       "    <tr>\n",
       "      <th>5</th>\n",
       "      <td>/kaggle/input/cvresume/24.pdf</td>\n",
       "      <td>[101, 100, 100, 100, 2613, 100, 100, 100, 100,...</td>\n",
       "    </tr>\n",
       "    <tr>\n",
       "      <th>6</th>\n",
       "      <td>/kaggle/input/cvresume/15.pdf</td>\n",
       "      <td>[101, 5396, 100, 100, 4613, 5368, 100, 7561, 1...</td>\n",
       "    </tr>\n",
       "    <tr>\n",
       "      <th>7</th>\n",
       "      <td>/kaggle/input/cvresume/5.pdf</td>\n",
       "      <td>[101, 4145, 100, 2640, 100, 100, 100, 2393, 10...</td>\n",
       "    </tr>\n",
       "    <tr>\n",
       "      <th>8</th>\n",
       "      <td>/kaggle/input/cvresume/29.pdf</td>\n",
       "      <td>[101, 7705, 100, 100, 3034, 3857, 100, 2732, 1...</td>\n",
       "    </tr>\n",
       "    <tr>\n",
       "      <th>9</th>\n",
       "      <td>/kaggle/input/cvresume/8.pdf</td>\n",
       "      <td>[101, 100, 100, 7017, 100, 100, 100, 100, 100,...</td>\n",
       "    </tr>\n",
       "    <tr>\n",
       "      <th>10</th>\n",
       "      <td>/kaggle/input/cvresume/14.pdf</td>\n",
       "      <td>[101, 100, 100, 100, 2640, 100, 4037, 100, 612...</td>\n",
       "    </tr>\n",
       "    <tr>\n",
       "      <th>11</th>\n",
       "      <td>/kaggle/input/cvresume/17.pdf</td>\n",
       "      <td>[101, 100, 100, 4145, 2110, 4037, 100, 8066, 1...</td>\n",
       "    </tr>\n",
       "    <tr>\n",
       "      <th>12</th>\n",
       "      <td>/kaggle/input/cvresume/27.pdf</td>\n",
       "      <td>[101, 100, 100, 100, 100, 26651, 100, 3034, 23...</td>\n",
       "    </tr>\n",
       "    <tr>\n",
       "      <th>13</th>\n",
       "      <td>/kaggle/input/cvresume/20.pdf</td>\n",
       "      <td>[101, 4807, 7017, 100, 100, 4044, 100, 100, 32...</td>\n",
       "    </tr>\n",
       "    <tr>\n",
       "      <th>14</th>\n",
       "      <td>/kaggle/input/cvresume/26.pdf</td>\n",
       "      <td>[101, 2784, 3857, 100, 6556, 100, 100, 100, 10...</td>\n",
       "    </tr>\n",
       "    <tr>\n",
       "      <th>15</th>\n",
       "      <td>/kaggle/input/cvresume/12.pdf</td>\n",
       "      <td>[101, 100, 100, 6229, 100, 4130, 100, 7688, 22...</td>\n",
       "    </tr>\n",
       "    <tr>\n",
       "      <th>16</th>\n",
       "      <td>/kaggle/input/cvresume/4.pdf</td>\n",
       "      <td>[101, 100, 100, 100, 2801, 100, 100, 3716, 100...</td>\n",
       "    </tr>\n",
       "    <tr>\n",
       "      <th>17</th>\n",
       "      <td>/kaggle/input/cvresume/19.pdf</td>\n",
       "      <td>[101, 4807, 4339, 3191, 2476, 100, 3713, 100, ...</td>\n",
       "    </tr>\n",
       "    <tr>\n",
       "      <th>18</th>\n",
       "      <td>/kaggle/input/cvresume/1.pdf</td>\n",
       "      <td>[101, 4807, 2118, 100, 100, 100, 100, 2476, 10...</td>\n",
       "    </tr>\n",
       "    <tr>\n",
       "      <th>19</th>\n",
       "      <td>/kaggle/input/cvresume/10.pdf</td>\n",
       "      <td>[101, 100, 100, 100, 100, 6709, 2364, 100, 274...</td>\n",
       "    </tr>\n",
       "    <tr>\n",
       "      <th>20</th>\n",
       "      <td>/kaggle/input/cvresume/22.pdf</td>\n",
       "      <td>[101, 100, 2801, 100, 100, 2095, 100, 100, 100...</td>\n",
       "    </tr>\n",
       "    <tr>\n",
       "      <th>21</th>\n",
       "      <td>/kaggle/input/cvresume/21.pdf</td>\n",
       "      <td>[101, 100, 7017, 100, 100, 100, 100, 2095, 389...</td>\n",
       "    </tr>\n",
       "    <tr>\n",
       "      <th>22</th>\n",
       "      <td>/kaggle/input/cvresume/32.pdf</td>\n",
       "      <td>[101, 100, 100, 100, 100, 2191, 3115, 100, 806...</td>\n",
       "    </tr>\n",
       "    <tr>\n",
       "      <th>23</th>\n",
       "      <td>/kaggle/input/cvresume/28.pdf</td>\n",
       "      <td>[101, 100, 2299, 2946, 11814, 100, 100, 11957,...</td>\n",
       "    </tr>\n",
       "    <tr>\n",
       "      <th>24</th>\n",
       "      <td>/kaggle/input/cvresume/33.PDF</td>\n",
       "      <td>[101, 100, 100, 100, 2192, 2668, 17995, 4031, ...</td>\n",
       "    </tr>\n",
       "    <tr>\n",
       "      <th>25</th>\n",
       "      <td>/kaggle/input/cvresume/13.pdf</td>\n",
       "      <td>[101, 100, 16258, 100, 100, 100, 100, 2191, 50...</td>\n",
       "    </tr>\n",
       "    <tr>\n",
       "      <th>26</th>\n",
       "      <td>/kaggle/input/cvresume/16.pdf</td>\n",
       "      <td>[101, 3930, 100, 100, 100, 6691, 7026, 100, 61...</td>\n",
       "    </tr>\n",
       "    <tr>\n",
       "      <th>27</th>\n",
       "      <td>/kaggle/input/cvresume/35.pdf</td>\n",
       "      <td>[101, 100, 18355, 100, 100, 100, 2640, 26268, ...</td>\n",
       "    </tr>\n",
       "    <tr>\n",
       "      <th>28</th>\n",
       "      <td>/kaggle/input/cvresume/11.pdf</td>\n",
       "      <td>[101, 3105, 8066, 100, 100, 26293, 3413, 100, ...</td>\n",
       "    </tr>\n",
       "    <tr>\n",
       "      <th>29</th>\n",
       "      <td>/kaggle/input/cvresume/3.pdf</td>\n",
       "      <td>[101, 100, 14125, 100, 2110, 100, 100, 8849, 1...</td>\n",
       "    </tr>\n",
       "    <tr>\n",
       "      <th>30</th>\n",
       "      <td>/kaggle/input/cvresume/2.pdf</td>\n",
       "      <td>[101, 100, 100, 100, 100, 100, 100, 100, 100, ...</td>\n",
       "    </tr>\n",
       "    <tr>\n",
       "      <th>31</th>\n",
       "      <td>/kaggle/input/cvresume/18.pdf</td>\n",
       "      <td>[101, 100, 100, 2110, 6162, 20828, 100, 26268,...</td>\n",
       "    </tr>\n",
       "  </tbody>\n",
       "</table>\n",
       "</div>"
      ],
      "text/plain": [
       "                                                 File  \\\n",
       "0   /kaggle/input/cvresume/debika_piriya_dharmalin...   \n",
       "1                       /kaggle/input/cvresume/23.pdf   \n",
       "2                       /kaggle/input/cvresume/25.pdf   \n",
       "3                       /kaggle/input/cvresume/31.pdf   \n",
       "4                       /kaggle/input/cvresume/30.pdf   \n",
       "5                       /kaggle/input/cvresume/24.pdf   \n",
       "6                       /kaggle/input/cvresume/15.pdf   \n",
       "7                        /kaggle/input/cvresume/5.pdf   \n",
       "8                       /kaggle/input/cvresume/29.pdf   \n",
       "9                        /kaggle/input/cvresume/8.pdf   \n",
       "10                      /kaggle/input/cvresume/14.pdf   \n",
       "11                      /kaggle/input/cvresume/17.pdf   \n",
       "12                      /kaggle/input/cvresume/27.pdf   \n",
       "13                      /kaggle/input/cvresume/20.pdf   \n",
       "14                      /kaggle/input/cvresume/26.pdf   \n",
       "15                      /kaggle/input/cvresume/12.pdf   \n",
       "16                       /kaggle/input/cvresume/4.pdf   \n",
       "17                      /kaggle/input/cvresume/19.pdf   \n",
       "18                       /kaggle/input/cvresume/1.pdf   \n",
       "19                      /kaggle/input/cvresume/10.pdf   \n",
       "20                      /kaggle/input/cvresume/22.pdf   \n",
       "21                      /kaggle/input/cvresume/21.pdf   \n",
       "22                      /kaggle/input/cvresume/32.pdf   \n",
       "23                      /kaggle/input/cvresume/28.pdf   \n",
       "24                      /kaggle/input/cvresume/33.PDF   \n",
       "25                      /kaggle/input/cvresume/13.pdf   \n",
       "26                      /kaggle/input/cvresume/16.pdf   \n",
       "27                      /kaggle/input/cvresume/35.pdf   \n",
       "28                      /kaggle/input/cvresume/11.pdf   \n",
       "29                       /kaggle/input/cvresume/3.pdf   \n",
       "30                       /kaggle/input/cvresume/2.pdf   \n",
       "31                      /kaggle/input/cvresume/18.pdf   \n",
       "\n",
       "                                               Tokens  \n",
       "0   [101, 100, 100, 6229, 100, 4130, 100, 7688, 22...  \n",
       "1   [101, 100, 2613, 100, 100, 100, 4613, 100, 100...  \n",
       "2   [101, 4145, 100, 2476, 10616, 7427, 100, 4044,...  \n",
       "3   [101, 100, 2946, 3191, 100, 100, 2612, 3857, 1...  \n",
       "4   [101, 100, 100, 100, 100, 2110, 3716, 100, 304...  \n",
       "5   [101, 100, 100, 100, 2613, 100, 100, 100, 100,...  \n",
       "6   [101, 5396, 100, 100, 4613, 5368, 100, 7561, 1...  \n",
       "7   [101, 4145, 100, 2640, 100, 100, 100, 2393, 10...  \n",
       "8   [101, 7705, 100, 100, 3034, 3857, 100, 2732, 1...  \n",
       "9   [101, 100, 100, 7017, 100, 100, 100, 100, 100,...  \n",
       "10  [101, 100, 100, 100, 2640, 100, 4037, 100, 612...  \n",
       "11  [101, 100, 100, 4145, 2110, 4037, 100, 8066, 1...  \n",
       "12  [101, 100, 100, 100, 100, 26651, 100, 3034, 23...  \n",
       "13  [101, 4807, 7017, 100, 100, 4044, 100, 100, 32...  \n",
       "14  [101, 2784, 3857, 100, 6556, 100, 100, 100, 10...  \n",
       "15  [101, 100, 100, 6229, 100, 4130, 100, 7688, 22...  \n",
       "16  [101, 100, 100, 100, 2801, 100, 100, 3716, 100...  \n",
       "17  [101, 4807, 4339, 3191, 2476, 100, 3713, 100, ...  \n",
       "18  [101, 4807, 2118, 100, 100, 100, 100, 2476, 10...  \n",
       "19  [101, 100, 100, 100, 100, 6709, 2364, 100, 274...  \n",
       "20  [101, 100, 2801, 100, 100, 2095, 100, 100, 100...  \n",
       "21  [101, 100, 7017, 100, 100, 100, 100, 2095, 389...  \n",
       "22  [101, 100, 100, 100, 100, 2191, 3115, 100, 806...  \n",
       "23  [101, 100, 2299, 2946, 11814, 100, 100, 11957,...  \n",
       "24  [101, 100, 100, 100, 2192, 2668, 17995, 4031, ...  \n",
       "25  [101, 100, 16258, 100, 100, 100, 100, 2191, 50...  \n",
       "26  [101, 3930, 100, 100, 100, 6691, 7026, 100, 61...  \n",
       "27  [101, 100, 18355, 100, 100, 100, 2640, 26268, ...  \n",
       "28  [101, 3105, 8066, 100, 100, 26293, 3413, 100, ...  \n",
       "29  [101, 100, 14125, 100, 2110, 100, 100, 8849, 1...  \n",
       "30  [101, 100, 100, 100, 100, 100, 100, 100, 100, ...  \n",
       "31  [101, 100, 100, 2110, 6162, 20828, 100, 26268,...  "
      ]
     },
     "execution_count": 6,
     "metadata": {},
     "output_type": "execute_result"
    }
   ],
   "source": [
    "import pandas as pd\n",
    "df=pd.DataFrame()\n",
    "tokenized=[]\n",
    "for file in files:\n",
    "#     print('\\n'+file+'\\n')\n",
    "    reader = PdfReader(file)\n",
    "    text=reader.pages[0].extract_text()\n",
    "    doc=nlp(text)\n",
    "    tokens=create_tokens(doc)\n",
    "#     tokenized=pd.Series(tokenizer.encode(tokens, add_special_tokens=True))\n",
    "    tokenized=tokenizer.encode(tokens, add_special_tokens=True)\n",
    "#     print(tokenized)\n",
    "    data={'File':file,'Tokens':tokenized}\n",
    "    df=df.append(data,ignore_index = True)\n",
    "       \n",
    "df.head(len(files))   "
   ]
  },
  {
   "cell_type": "markdown",
   "id": "d3f3a41e",
   "metadata": {
    "papermill": {
     "duration": 0.007755,
     "end_time": "2022-08-27T12:11:44.920998",
     "exception": false,
     "start_time": "2022-08-27T12:11:44.913243",
     "status": "completed"
    },
    "tags": []
   },
   "source": [
    "# Data Visualisation of token frequency"
   ]
  },
  {
   "cell_type": "markdown",
   "id": "b7f0d1e9",
   "metadata": {
    "papermill": {
     "duration": 0.008134,
     "end_time": "2022-08-27T12:11:44.937322",
     "exception": false,
     "start_time": "2022-08-27T12:11:44.929188",
     "status": "completed"
    },
    "tags": []
   },
   "source": [
    "**1. Finding frequency of tokens:**\n",
    " Using collections module we find the frequency of tokens in a dictionary"
   ]
  },
  {
   "cell_type": "code",
   "execution_count": 7,
   "id": "99d2d705",
   "metadata": {
    "execution": {
     "iopub.execute_input": "2022-08-27T12:11:44.955722Z",
     "iopub.status.busy": "2022-08-27T12:11:44.954933Z",
     "iopub.status.idle": "2022-08-27T12:11:53.118015Z",
     "shell.execute_reply": "2022-08-27T12:11:53.116907Z"
    },
    "papermill": {
     "duration": 8.175994,
     "end_time": "2022-08-27T12:11:53.121453",
     "exception": false,
     "start_time": "2022-08-27T12:11:44.945459",
     "status": "completed"
    },
    "tags": []
   },
   "outputs": [
    {
     "name": "stdout",
     "output_type": "stream",
     "text": [
      "Counter({'Engineering': 21, 'College': 19, 'CGPA': 17, 'skill': 16, 'Python': 14, 'learn': 14, 'Tamil': 14, 'work': 13, 'high': 12, 'objective': 12, 'language': 12, 'school': 11, 'knowledge': 11, 'India': 11, 'Science': 11, 'School': 11, 'Sri': 10, 'project': 10, 'opportunity': 9, 'development': 9, 'team': 9, 'SSN': 9, 'Secondary': 9, 'Electronics': 9, 'EDUCATION': 8, 'problem': 8, 'Machine': 8, 'Learning': 8, 'programming': 8, 'career': 8, 'Development': 8, 'Chennai': 8, 'Computer': 8, 'web': 8, 'solve': 8, 'student': 8, 'University': 8, 'SKILLS': 8, 'Nadar': 7, 'field': 7, 'college': 7, 'English': 7, 'develop': 7, 'Madurai': 7, 'CSS': 7, 'education': 7, 'Java': 7, 'organization': 7, 'good': 7, 'State': 7, 'XII': 7, 'management': 7, 'complete': 7, 'COLLEGE': 7, 'engineering': 7, 'QUALIFICATION': 7, 'technology': 6, 'self': 6, 'secondary': 6, 'python': 6, 'individual': 6, 'PROJECTS': 6, 'Language': 6, 'Programming': 6, 'SQL': 6, 'HTML': 6, 'course': 6, 'experience': 6, 'Bachelor': 6, 'Coursera': 6, 'Board': 6, 'english': 6, 'company': 6, 'communication': 6, 'contact': 6, 'Nadu': 6, 'Communication': 6, 'ACADEMIC': 6, 'email': 5, 'algorithm': 5, 'Class': 5, 'give': 5, 'internship': 5, 'use': 5, 'place': 5, 'Data': 5, 'phone': 5, 'challenge': 5, 'build': 5, 'website': 5, 'machine': 5, 'Smart': 5, 'Time': 5, 'grow': 5, 'basic': 5, 'computer': 5, 'Hindi': 5, 'percentage': 5, 'training': 5, 'Problem': 5, 'Sivasubramaniya': 5, 'CBSE': 5, 'base': 5, 'Member': 5, 'present': 5, 'passionate': 5, 'study': 5, 'interest': 5, 'new': 5, 'SCHOOL': 5, 'Anna': 5, 'YEAR': 5, 'year': 5, 'Project': 4, 'growth': 4, 'learner': 4, 'believe': 4, 'pursue': 4, 'analyze': 4, 'semester': 4, 'user': 4, 'active': 4, 'Nagar': 4, 'Street': 4, 'time': 4, 'topic': 4, 'Hackathon': 4, 'predict': 4, 'environment': 4, 'seek': 4, 'hard': 4, 'GPA': 4, 'skilled': 4, 'know': 4, 'leadership': 4, 'Team': 4, 'Club': 4, 'image': 4, 'competition': 4, 'set': 4, 'Skills': 4, 'Javascript': 4, 'state': 4, 'position': 4, 'improve': 4, 'network': 4, 'Electrical': 4, 'Support': 4, 'Higher': 4, 'Business': 4, 'system': 4, 'code': 4, 'System': 4, 'skills': 4, 'thing': 4, 'Arduino': 4, 'thinking': 4, 'ability': 4, 'class': 4, 'design': 4, 'Senior': 4, 'player': 4, 'PROJECT': 4, 'ENGINEERING': 4, 'IoT': 4, 'CHENNAI': 4, 'Year': 4, 'SSLC': 4, 'technical': 4, 'MADURAI': 4, 'pass': 4, 'Thiagarajar': 4, 'PERSONAL': 4, 'activity': 4, 'Contact': 3, 'Technology': 3, 'orient': 3, 'Linkedin': 3, 'percentile': 3, 'look': 3, 'software': 3, 'public': 3, 'html': 3, 'visit': 3, 'cgpa': 3, 'bachelor': 3, 'secure': 3, 'information': 3, 'currently': 3, 'Vidhyashram': 3, 'speech': 3, 'Algorithms': 3, 'Structures': 3, 'model': 3, 'create': 3, 'concept': 3, 'MS': 3, 'highly': 3, 'ID': 3, 'motivated': 3, 'street': 3, 'Systems': 3, 'Public': 3, 'Email': 3, 'analysis': 3, 'task': 3, 'writing': 3, 'Management': 3, 'technique': 3, 'engineer': 3, 'MATLAB': 3, 'Technical': 3, 'Industrial': 3, 'innovative': 3, 'Training': 3, 'TVS': 3, 'Limited': 3, 'certificate': 3, 'virtual': 3, 'group': 3, 'value': 3, 'March': 3, 'expect': 3, 'service': 3, 'hope': 3, 'International': 3, 'detail': 3, 'personal': 3, 'detection': 3, 'hour': 3, 'Marks': 3, 'Semester': 3, 'hold': 3, 'End': 3, 'achievement': 3, 'Languages': 3, 'June': 3, 'April': 3, 'board': 3, 'App': 3, 'certification': 3, 'application': 3, 'industrial': 3, 'score': 3, 'idea': 3, 'Address': 3, 'CLASS': 3, 'write': 3, 'BOARD': 3, 'professional': 3, 'Current': 3, 'COURSE': 3, 'explore': 3, 'make': 3, 'NPTEL': 3, 'mail': 3, 'contribution': 3, 'peer': 3, 'campus': 3, 'cour': 3, 'improvise': 2, 'High': 2, 'till': 2, 'path': 2, 'Everwin': 2, 'destination': 2, 'love': 2, 'openstreet': 2, 'navigator': 2, 'general': 2, 'dharmalingam': 2, 'attempt': 2, 'input': 2, 'Bachelors': 2, 'dijistra': 2, 'solution': 2, 'traverse': 2, 'piriya': 2, 'widely': 2, 'Debika': 2, 'short': 2, 'map': 2, 'logically': 2, 'overall': 2, 'BTech': 2, 'debikapiriya': 2, 'Siva': 2, 'Map': 2, 'actively': 2, 'SCORES': 2, 'critically': 2, 'library': 2, 'SSNCE': 2, 'description': 2, 'source': 2, 'structure': 2, 'folium': 2, 'crack': 2, 'TEST': 2, 'prefer': 2, 'data': 2, 'think': 2, 'Btech': 2, 'Subramaniya': 2, 'Dharmalingam': 2, 'optimal': 2, 'compute': 2, 'graph': 2, 'world': 2, 'real': 2, 'STREET': 2, 'URL': 2, 'PIN': 2, 'guidance': 2, 'Dataset': 2, 'simple': 2, 'Tensorﬂow': 2, 'text': 2, 'low': 2, 'translate': 2, 'GitHub': 2, 'Regression': 2, 'organisation': 2, 'talent': 2, 'dedicated': 2, 'Office': 2, 'size': 2, 'read': 2, 'Clone': 2, 'Hobbies': 2, 'rank': 2, 'Github': 2, 'filter': 2, 'database': 2, 'Django': 2, 'movie': 2, 'trailer': 2, 'popular': 2, 'sort': 2, 'postgresql': 2, 'worldwide': 2, 'different': 2, 'member': 2, 'book': 2, 'great': 2, 'Maths': 2, 'motivate': 2, 'Kurukshetra': 2, 'game': 2, 'JavaFX': 2, 'Web': 2, 'business': 2, 'ready': 2, 'Invente': 2, 'Student': 2, 'quality': 2, 'prize': 2, 'JavaScript': 2, 'especially': 2, 'Flask': 2, 'assignment': 2, 'life': 2, 'topper': 2, 'fast': 2, 'mysql': 2, 'TAMILNADU': 2, 'DOB': 2, 'firm': 2, 'reputed': 2, 'resume': 2, 'Tamilnadu': 2, 'Power': 2, 'Multisim': 2, 'Software': 2, 'Proﬁciency': 2, 'Introduction': 2, 'Courses': 2, 'Health': 2, 'Diploma': 2, 'strongly': 2, 'share': 2, 'LANGUAGES': 2, 'Percentage': 2, 'Fundamentals': 2, 'industry': 2, 'Monitoring': 2, 'Transformer': 2, 'Polytechnic': 2, 'SOFTWARE': 2, 'embed': 2, 'Energy': 2, 'Mathematics': 2, 'Central': 2, 'Working': 2, 'Platform': 2, 'Social': 2, 'Present': 2, 'Professional': 2, 'implementation': 2, 'Real': 2, 'sport': 2, 'Applications': 2, 'Microsoft': 2, 'aid': 2, 'Vehicle': 2, 'internet': 2, 'Students': 2, 'link': 2, 'proficiency': 2, 'aim': 2, 'Arts': 2, 'nature': 2, 'organise': 2, 'Education': 2, 'Study': 2, 'Digital': 2, 'Doak': 2, 'add': 2, 'goal': 2, 'address': 2, 'innovation': 2, 'Lady': 2, 'club': 2, 'help': 2, 'number': 2, 'Kalavakkam': 2, 'Grade': 2, 'understanding': 2, 'online': 2, 'platform': 2, 'upto': 2, 'program': 2, 'sell': 2, 'SCIENCE': 2, 'conference': 2, 'research': 2, 'analytical': 2, 'undergraduate': 2, 'big': 2, 'Strong': 2, 'like': 2, 'Proficient': 2, 'API': 2, 'Workshop': 2, 'Academy': 2, 'Course': 2, 'NSS': 2, 'participant': 2, 'Sec': 2, 'Hr': 2, 'August': 2, 'LEADERSHIP': 2, 'CSE': 2, 'ARTIFICIAL': 2, 'Algorithm': 2, 'learning': 2, 'JAVA': 2, 'Artificial': 2, 'strong': 2, 'OBJECTIVE': 2, 'Website': 2, 'sql': 2, 'Stack': 2, 'creativity': 2, 'frontend': 2, 'girl': 2, 'PYTHON': 2, 'backend': 2, 'Stanford': 2, 'Udemy': 2, 'app': 2, 'local': 2, 'site': 2, 'datum': 2, 'ongoing': 2, 'Complete': 2, 'level': 2, 'fully': 2, 'grade': 2, 'conduct': 2, 'person': 2, 'cooperative': 2, 'Adaptable': 2, 'Matriculation': 2, 'Vidyalaya': 2, 'exam': 2, 'tool': 2, 'mar': 2, 'end': 2, 'OBJECTIVES': 2, 'GIRLS': 2, 'matric': 2, 'hr': 2, 'SEC': 2, 'Mobile': 2, 'Graduation': 2, 'KALAVAKKAM': 2, 'HSC': 2, 'Aggregate': 2, 'SECONDARY': 2, 'prove': 2, 'accept': 2, 'university': 2, 'passing': 2, 'challenging': 2, 'marks': 2, 'INSTITUTION': 2, 'organizational': 2, 'dedication': 2, 'main': 2, 'health': 2, 'advance': 2, 'Basics': 2, 'Services': 2, 'Home': 2, 'patient': 2, 'Matric': 2, 'positive': 2, 'spirit': 2, 'attitude': 2, 'willingness': 2, 'Fuzzy': 2, 'significant': 2, 'Institution': 2, 'EEE': 2, 'Crash': 2, 'presentation': 2, 'Achievements': 2, 'Soft': 2, 'schooling': 2, 'COURSES': 2, 'theme': 2, 'represent': 2, 'home': 2, 'IIT': 2, 'speaker': 2, 'electronic': 2, 'volunteer': 2, 'STUDENT': 2, 'science': 2, 'affiliate': 2, 'Autonomous': 2, 'intelligence': 2, 'area': 2, 'robot': 2, 'event': 2, 'DEGREE': 2, 'Leadership': 2, 'Bharath': 2, 'fax': 2, 'THIAGARAJAR': 2, 'officer': 2, 'TECHNICAL': 2, 'Institute': 2, 'participate': 2, 'RECORD': 2, 'COURSERA': 2, 'classify': 2, 'Matlab': 2, 'attention': 2, 'enhance': 2, 'job': 2, 'Fluent': 2, 'Basic': 2, 'alongside': 2, 'CERTIFICATIONS': 2, 'INTERNSHIP': 2, 'Akkarai': 1, 'Random': 1, 'classiﬁer': 1, 'chatbot': 1, 'voice': 1, 'CSBS': 1, 'orke': 1, 'Kanyakumari': 1, 'Pycharm': 1, 'answer': 1, 'prediction': 1, 'District': 1, 'module': 1, 'capture': 1, 'rate': 1, 'steel': 1, 'Forest': 1, 'ask': 1, 'Chitra': 1, 'CNN': 1, 'Garbage': 1, 'VSCode': 1, 'object': 1, 'speciﬁc': 1, 'Suchindrum': 1, 'JANUARY': 1, 'query': 1, 'alloy': 1, 'cis': 1, 'Domains': 1, 'HOD': 1, 'url': 1, 'notebook': 1, 'Recognizer': 1, 'Jupyter': 1, 'Melbourne': 1, 'po': 1, 'Kaggle': 1, 'Azad': 1, 'discord': 1, 'Git': 1, 'price': 1, 'estate': 1, 'house': 1, 'DECEMBER': 1, 'output': 1, 'ieee': 1, 'recognition': 1, 'corrosion': 1, 'IDE': 1, 'Thangalacherry': 1, 'grasp': 1, 'package': 1, 'Latex': 1, 'guidence': 1, 'sets': 1, 'Text': 1, 'Tirumangalam': 1, 'opportunitie': 1, 'na': 1, 'Enthusiastic': 1, 'ture': 1, 'handle': 1, 'worker': 1, 'subalakshmi': 1, 'dependable': 1, 'quickly': 1, 'East': 1, 'Mail': 1, 'able': 1, 'express': 1, 'SKILL': 1, 'live': 1, 'profile': 1, 'instead': 1, 'Internal': 1, 'Netflix': 1, 'interested': 1, 'mobile': 1, 'ACM': 1, 'relevant': 1, 'crime': 1, 'thriller': 1, 'Operating': 1, 'NodeJS': 1, 'mini': 1, 'Sabarivasan': 1, 'exciting': 1, 'eagerly': 1, 'visualisation': 1, 'example': 1, 'Visualiser': 1, 'f': 1, 'release': 1, 'variable': 1, 'Topper': 1, 'gamer': 1, 'lover': 1, 'CyberSecurity': 1, 'PHP': 1, 'Bio': 1, 'Velayutham': 1, 'expense': 1, 'GIT': 1, 'devour': 1, 'receive': 1, 'senior': 1, 'MIT': 1, 'note': 1, 'exceed': 1, 'properly': 1, 'cutoff': 1, 'apply': 1, 'wait': 1, 'head': 1, 'Event': 1, 'Honours': 1, 'faculty': 1, 'Shower': 1, 'find': 1, 'comic_strip': 1, 'expectation': 1, 'Summary': 1, 'watch': 1, 'portfolio': 1, 'Group': 1, 'available': 1, 'call': 1, 'serie': 1, 'reactjs': 1, 'swiftly': 1, 'Head': 1, 'leisure': 1, 'clone': 1, 'Standard': 1, 'saving': 1, 'play': 1, 'superior': 1, 'Samhita': 1, 'Filter': 1, 'strive': 1, 'expand': 1, 'take': 1, 'github': 1, 'repo': 1, 'CEG': 1, 'Tracker': 1, 'generate': 1, 'day': 1, 'Exam': 1, 'stream': 1, 'DISTRICT': 1, 'SATTUR': 1, 'TK': 1, 'CODE': 1, 'corecompetencie': 1, 'MAIL': 1, 'EAST': 1, 'ADDRESS': 1, 'taluk': 1, 'Station': 1, 'NLC': 1, 'troubleshoot': 1, 'ﬁnd': 1, 'Success': 1, 'hardware': 1, 'duration': 1, 'Atomic': 1, 'orcad': 1, 'motorcad': 1, 'PSpice': 1, 'Expansion': 1, 'Motorsolve': 1, 'Networking': 1, 'Ra': 1, 'aﬃliate': 1, 'DOTE': 1, 'Hardware': 1, 'Mathamatics': 1, 'Fault': 1, 'advancement': 1, 'Environment': 1, 'Design': 1, 'fundamental': 1, 'ANSYS': 1, 'Jaysurya': 1, 'fun': 1, 'Writing': 1, 'Oﬃce': 1, 'Eﬃciency': 1, 'exposure': 1, 'Thermal': 1, 'progonosis': 1, 'Programs': 1, 'Kalpakkam': 1, 'Stream': 1, 'Desing': 1, 'operate': 1, 'Special': 1, 'Neyveli': 1, 'Things': 1, 'week': 1, 'medium': 1, 'Positions': 1, 'responsibility': 1, 'certify': 1, 'error': 1, 'Manamadurai': 1, 'Doakians': 1, 'coach': 1, 'Trade': 1, 'independent': 1, 'designer': 1, 'graduation': 1, 'meaning': 1, 'creation': 1, 'Translator': 1, 'Literature': 1, 'Peer': 1, 'inspire': 1, 'portrait': 1, 'striving': 1, 'transcipt': 1, 'artistic': 1, 'Uploading': 1, 'Sivagangai': 1, 'test': 1, 'attain': 1, 'undertake': 1, 'Media': 1, 'creator': 1, 'digital': 1, 'client': 1, 'te': 1, 'Anbu': 1, 'suffcient': 1, 'Bootstrappers': 1, 'engage': 1, 'Elshina': 1, 'evaluate': 1, 'illustration': 1, 'artist': 1, 'coordinatorart': 1, 'art': 1, 'Infracon': 1, 'academic': 1, 'Centre': 1, 'Editor': 1, 'natural': 1, 'QAer': 1, 'original': 1, 'Entrepreneur': 1, 'maintain': 1, 'relevance': 1, 'visual': 1, 'teachertranscript': 1, 'marketing': 1, 'employ': 1, 'edit': 1, 'script': 1, 'alter': 1, 'Corner': 1, 'associate': 1, 'district': 1, 'account': 1, 'TNDGE': 1, 'Private': 1, 'put': 1, 'Concept': 1, 'Check': 1, 'photorealistic': 1, 'commission': 1, 'Blog': 1, 'APRIL': 1, 'Photoshop': 1, 'News': 1, 'Illustrator': 1, 'aggressive': 1, 'HOBBIES': 1, 'Panda': 1, 'way': 1, 'Thiruvanmiyur': 1, 'Classiﬁer': 1, 'Tﬁdfvectorizer': 1, 'Disease': 1, 'Fake': 1, 'Adobe': 1, 'AUGUST': 1, 'mark': 1, 'xgbclassiﬁer': 1, 'proﬁcient': 1, 'accuracy': 1, 'line': 1, 'EFX': 1, 'selling': 1, 'passive': 1, 'Audio': 1, 'clothing': 1, 'Designing': 1, 'Sound': 1, 'Synthesizers': 1, 'Political': 1, 'Indira': 1, 'worth': 1, 'Workstation': 1, 'Detection': 1, 'Graphic': 1, 'determine': 1, 'Malayalam': 1, 'numpy': 1, 'Parkinson': 1, 'JULY': 1, 'strategize': 1, 'novel': 1, 'Hindu': 1, 'framework': 1, 'star': 1, 'SQLite': 1, 'COMPUTER': 1, 'SemEval': 1, 'Unity': 1, 'learnt': 1, 'Harvard': 1, 'INTENDED': 1, 'Sankara': 1, 'competitive': 1, 'strength': 1, 'Evaluation': 1, 'introduction': 1, 'WORKCONTACT': 1, 'CommunicationI': 1, 'Hackerrank': 1, 'yearly': 1, 'skillsabout': 1, 'american': 1, 'RESEARCH': 1, 'JS': 1, 'evaluation': 1, 'north': 1, 'Linguistics': 1, 'introduce': 1, 'final': 1, 'schoolschoolcourse': 1, 'computational': 1, 'paper': 1, 'Discord': 1, 'Computational': 1, 'Gold': 1, 'solving': 1, 'semantic': 1, 'fork': 1, 'Expert': 1, 'SARCASM': 1, 'Familiar': 1, 'Semantic': 1, 'Association': 1, 'Boards': 1, 'chapter': 1, 'Solver': 1, 'publish': 1, 'Oracle': 1, 'Service': 1, 'prasanth': 1, 'Government': 1, 'Boys': 1, 'Scheme': 1, 'Tiruvannamalai': 1, 'HEALTHCARE': 1, 'GRADE': 1, 'HISTORY': 1, 'colour': 1, 'GIRISHWAR': 1, 'webpage': 1, 'rgb': 1, 'EXPERTISE': 1, 'JSP': 1, 'KMeans': 1, 'NOV': 1, 'Script': 1, 'qualitiesexcellent': 1, 'additional': 1, 'Intelligence': 1, 'AssociationVELAMMAL': 1, 'CAFE': 1, 'ENGINEER': 1, 'COMPLETEDEDUCATIONAL': 1, 'linkedin': 1, 'LEARNING': 1, 'JUNE': 1, 'collection': 1, 'MACHINE': 1, 'Html': 1, 'VIDYALAYA': 1, 'BATCH': 1, 'ROCK': 1, 'President': 1, 'Valedictorian': 1, 'COMMUNICATION': 1, 'programmingsri': 1, 'extract': 1, 'ADVANCED': 1, 'IMAGES': 1, 'PythonAREAS': 1, 'RAMACHANDRA': 1, 'ROLL': 1, 'Advanced': 1, 'coloursCOLOUR': 1, 'tech': 1, 'ta': 1, 'TECHNOLOGY': 1, 'open': 1, 'MANAGEMENT': 1, 'Graduate': 1, 'restaurant': 1, 'identification': 1, 'Graduated': 1, 'Database': 1, 'farmer': 1, 'hardworke': 1, 'dealer': 1, 'have': 1, 'helpful': 1, 'DEVI': 1, 'intermediator': 1, 'Online': 1, 'sentiment': 1, 'EMAIL': 1, 'appointment': 1, 'NPR': 1, 'Mining': 1, 'Joseph': 1, 'vate': 1, 'customer': 1, 'connect': 1, 'tem': 1, 'KEY': 1, 'LANGUAGE': 1, 'Doctor': 1, 'moti': 1, 'enthusiastic': 1, 'GUNA': 1, 'Users': 1, 'Sys': 1, 'fresh': 1, 'doctor': 1, 'Thinking': 1, 'Appointment': 1, 'Farmers': 1, 'Critical': 1, 'responsive': 1, 'JavaSwing': 1, 'large': 1, 'Pooja': 1, 'July': 1, 'Devi': 1, 'painting': 1, 'Feeder': 1, 'tourist': 1, 'eb': 1, 'nationallevel': 1, 'theBureau': 1, 'Chandran': 1, 'retrieval': 1, 'competitionsinclude': 1, 'amil': 1, 'specie': 1, 'PlantClef': 1, 'international': 1, 'AlexNet': 1, 'market': 1, 'Padma': 1, 'density': 1, 'grading': 1, 'fishery': 1, 'optimise': 1, 'optimize': 1, 'EXTRACURRICULARS': 1, 'severaloratory': 1, 'plant': 1, 'scale': 1, 'TN': 1, 'win': 1, 'streaming': 1, 'entertainment': 1, 'country': 1, 'mock': 1, 'fish': 1, 'regression': 1, 'automatic': 1, 'Bootcamp': 1, 'contestsat': 1, 'feeder': 1, 'observation': 1, 'multi': 1, 'PLantClef': 1, 'counting': 1, 'Voyagers': 1, 'paint': 1, 'promote': 1, 'PoshFlix': 1, 'Fishery': 1, 'Bolt': 1, 'Counting': 1, 'Overflow': 1, 'Good': 1, 'STRENGTHSPROFILER': 1, 'Coding': 1, 'Alwin': 1, 'SSE': 1, 'curious': 1, 'interpretation': 1, 'contributor': 1, 'HSE': 1, 'Quora': 1, 'eager': 1, 'Zion': 1, 'forum': 1, 'Memorial': 1, 'deep': 1, 'wirelessly': 1, 'remote': 1, 'Pursue': 1, 'SimpliLearn': 1, 'InternshalaVelammal': 1, 'VS': 1, 'computing': 1, 'Narayana': 1, 'Sensors': 1, 'thank': 1, 'algos': 1, 'decentralized': 1, 'EducationExpertise': 1, 'intern': 1, 'blockchain': 1, 'ethical': 1, 'Cloud': 1, 'Solidity': 1, 'ai': 1, 'Internshala': 1, 'mining': 1, 'Cryptography': 1, 'location': 1, 'SRET': 1, 'DecWeb': 1, 'Casperon': 1, 'bootstrap': 1, 'contract': 1, 'server': 1, 'cryptocurrencie': 1, 'consensus': 1, 'Developer': 1, 'Consensus': 1, 'equipment': 1, 'forthcoming': 1, 'DEV': 1, 'cbse': 1, 'Nov': 1, 'techno': 1, 'Cs': 1, 'Blockchain': 1, 'accelerometer': 1, 'easy': 1, 'UI': 1, 'Jan': 1, 'Analytics': 1, 'javascript': 1, 'collect': 1, 'Cys': 1, 'hacking': 1, 'classcranberry': 1, 'hindi': 1, 'BLOCKCHAIN': 1, 'smart': 1, 'basicsroshan': 1, 'IIoT': 1, 'damage': 1, 'related': 1, 'Hacking': 1, 'ml': 1, 'cybersecurity': 1, 'scored': 1, 'friendly': 1, 'Govindapuram': 1, 'Father': 1, 'West': 1, 'INSTITUTE': 1, 'CURRENTLY': 1, 'Birth': 1, 'SATHYABHARATHI': 1, 'CURRENT': 1, 'ELECTRONICS': 1, 'Date': 1, 'DETAILS': 1, 'progressive': 1, 'Dindigul': 1, 'KARUR': 1, 'implement': 1, 'ssvm': 1, 'SMBM': 1, 'ELECTRICAL': 1, 'DINDIGUL': 1, 'Interest': 1, 'speak': 1, 'Vinayagar': 1, 'pulavar': 1, 'ook': 1, 'qualification': 1, 'listen': 1, 'Area': 1, 'ADITYA': 1, 'Vicky': 1, 'Phone': 1, 'Manakula': 1, 'puducherry': 1, 'music': 1, 'Gmail': 1, 'critical': 1, 'Skill': 1, 'vidyashram': 1, 'al': 1, 'Technic': 1, 'Duration': 1, 'Vigneshwaran': 1, 'thilarshpet': 1, 'Sem': 1, 'ADVENTIST': 1, 'Dec': 1, 'inplant': 1, 'vidyalayam': 1, 'Broadband': 1, 'EDUCATIONAL': 1, 'Muthu': 1, 'discover': 1, 'Main': 1, 'full': 1, 'invasive': 1, 'Narasimma': 1, 'sriabirami': 1, 'Illam': 1, 'GLUCOMETER': 1, 'tagore': 1, 'environmental': 1, 'non': 1, 'efficiency': 1, 'domain': 1, 'Tagore': 1, 'potential': 1, 'duty': 1, 'Iyer': 1, 'tamilnadu': 1, 'Road': 1, 'technician': 1, 'Vandiyur': 1, 'serve': 1, 'BSNL': 1, 'QUANTANICS': 1, 'provide': 1, 'Mangayarkarasi': 1, 'Ramesh': 1, 'Patient': 1, 'identify': 1, 'Prognosis': 1, 'determination': 1, 'remain': 1, 'type': 1, 'thriv': 1, 'parameter': 1, 'Total': 1, 'Tharamani': 1, 'Loganathan': 1, 'wireless': 1, 'useful': 1, 'broaden': 1, 'Trainings': 1, 'Choolaimedu': 1, 'Siemens': 1, 'sense': 1, 'transmit': 1, 'monitoring': 1, 'fault': 1, 'Network': 1, 'Bharani': 1, 'ing': 1, 'pre': 1, 'expertise': 1, 'Faults': 1, 'EV': 1, 'Wireless': 1, 'Ltd': 1, 'Sensor': 1, 'Tirunelveli': 1, 'ragaviaug': 1, 'unknown': 1, 'mannar': 1, 'welcome': 1, 'Mar': 1, 'Ariyakulam': 1, 'unelveli': 1, 'Thiruparankundram': 1, 'PROFESSIONAL': 1, 'workplace': 1, 'offer': 1, 'tir': 1, 'MEENARAGAVI': 1, 'SECONDAR': 1, 'Sarada': 1, 'Thimmarajapuram': 1, 'Sarah': 1, 'Tucker': 1, 'Palayamkottai': 1, 'uttaradh': 1, 'productivity': 1, 'MAHAJAISHREE': 1, 'vinayagarkovilstreet': 1, 'Marketing': 1, 'Sivagiri': 1, 'Mini': 1, 'Strategy': 1, 'keep': 1, 'praveen': 1, 'Viveka': 1, 'projecton': 1, 'Rmahajaishree': 1, 'Typewriting': 1, 'honesty': 1, 'Academic': 1, 'Secured': 1, 'standard': 1, 'success': 1, 'Background': 1, 'building': 1, 'Passing': 1, 'Sai': 1, 'ICSDS': 1, 'Paper': 1, 'Certifications': 1, 'energy': 1, 'Educational': 1, 'utilize': 1, 'Extra': 1, 'people': 1, 'Easy': 1, 'Velammal': 1, 'Akash': 1, 'Positive': 1, 'Venkateshwara': 1, 'Period': 1, 'conservation': 1, 'trinity': 1, 'Activities': 1, 'Western': 1, 'responsible': 1, 'sri': 1, 'logic': 1, 'Degree': 1, 'SceneBuilder': 1, 'song': 1, 'ix': 1, 'bubble': 1, 'Net': 1, 'cate': 1, 'Multiple': 1, 'accountability': 1, 'Medavakkam': 1, 'Certi': 1, 'React': 1, 'visualise': 1, 'TMDB': 1, 'Array': 1, 'Link': 1, 'Controls': 1, 'HAMEED': 1, 'Merge': 1, 'shajith': 1, 'Teamwork': 1, 'Insertion': 1, 'Selection': 1, 'Player': 1, 'Solving': 1, 'Beginner': 1, 'Frameworks': 1, 'pc': 1, 'Developement': 1, 'Redux': 1, 'api': 1, 'Stars': 1, 'icon': 1, 'Light': 1, 'Music': 1, 'Solbving': 1, 'Prelims': 1, 'Firebase': 1, 'Express': 1, 'playback': 1, 'Desktop': 1, 'Mastery': 1, 'Youtube': 1, 'John': 1, 'Vis': 1, 'Sort': 1, 'pandemic': 1, 'CAROL': 1, 'hand': 1, 'blood': 1, 'revive': 1, 'product': 1, 'trade': 1, 'elderly': 1, 'attend': 1, 'booth': 1, 'Summit': 1, 'Verbal': 1, 'RATCHANYA': 1, 'inclusion': 1, 'wellbee': 1, 'Volunteer': 1, 'old': 1, 'underprivileged': 1, 'persuasive': 1, 'Red': 1, 'motivation': 1, 'forward': 1, 'Coordinated': 1, 'barrier': 1, 'designing': 1, 'SHERLEY': 1, 'awareness': 1, 'kharagpur': 1, 'age': 1, 'blogging': 1, 'majoring': 1, 'creative': 1, 'Global': 1, 'teach': 1, 'Ribbon': 1, 'debating': 1, 'kid': 1, 'wholeness': 1, 'poetry': 1, 'break': 1, 'entrepreneur': 1, 'rally': 1, 'HIV': 1, 'proof': 1, 'lecture': 1, 'CORNER': 1, 'encouraged': 1, 'award': 1, 'Entrepreneurship': 1, 'mental': 1, 'meet': 1, 'NAAC': 1, 'camp': 1, 'outreach': 1, 'Rotract': 1, 'space': 1, 'seminar': 1, 'poster': 1, 'support': 1, 'winner': 1, 'practice': 1, 'physical': 1, 'content': 1, 'donation': 1, 'reading': 1, 'flyer': 1, 'expo': 1, 'css': 1, 'JEE': 1, 'Astronomy': 1, 'js': 1, 'expose': 1, 'report': 1, 'Learnt': 1, 'train': 1, 'trap': 1, 'Hold': 1, 'ostentation': 1, 'ear': 1, 'Perseverance': 1, 'Winner': 1, 'institution': 1, 'studio': 1, 'unity': 1, 'es': 1, 'administration': 1, 'figma': 1, 'ent': 1, 'Cybersecurity': 1, 'Telephone': 1, 'championship': 1, 'village': 1, 'lingo': 1, 'DEVIPADMA': 1, 'solar': 1, 'aided': 1, 'developm': 1, 'udemy': 1, 'MSS': 1, 'poem': 1, 'stack': 1, 'zonal': 1, 'azure': 1, 'java': 1, 'Punctuality': 1, 'NRC': 1, 'functional': 1, 'Arch': 1, 'Won': 1, 'mathlab': 1, 'round': 1, 'Multi': 1, 'postman': 1, 'artificial': 1, 'Govt': 1, 'CO': 1, 'boot': 1, 'Plan': 1, 'Rajapalayam': 1, 'STUDY': 1, 'git': 1, 'colleague': 1, 'placement': 1, 'robotic': 1, 'cluster': 1, 'NATA': 1, 'category': 1, 'tasking': 1, 'degree': 1, 'diversity': 1, 'Aarohanam': 1, 'android': 1, 'react': 1, 'SciMa': 1, 'Ramco': 1, 'Placement': 1, 'Certified': 1, 'telephone': 1, 'REG': 1, 'PRASHAANTH': 1, 'GURU': 1, 'assiduous': 1, 'TPKM': 1, 'KENDRIYAVIDYALAYA': 1, 'ISO': 1, 'government': 1, 'CBS': 1, 'INDIA': 1, 'obstacle': 1, 'Covid': 1, 'NIT': 1, 'circuit': 1, 'quarantine': 1, 'Keras': 1, 'Whisper': 1, 'Organization': 1, 'organized': 1, 'ROURKELA': 1, 'GUPTA': 1, 'ML': 1, 'covid': 1, 'ﬁrebase': 1, 'Speech': 1, 'MULTISIM': 1, 'monitor': 1, 'spectrum': 1, 'AWARD': 1, 'restoration': 1, 'Enhancement': 1, 'Pspice': 1, 'Robot': 1, 'Coppeliasim': 1, 'Recognition': 1, 'well': 1, 'Exploratory': 1, 'whispered': 1, 'PUPIL': 1, 'PC': 1, 'pump': 1, 'WORK': 1, 'care': 1, 'Tasks': 1, 'iot': 1, 'dataset': 1, 'Patients': 1, 'Care': 1, 'BASIC': 1, 'Research': 1, 'Restoration': 1, 'Telugu': 1, 'CHAT': 1, 'hackathon': 1, 'Pati': 1, 'National': 1, 'underwater': 1, 'Mchine': 1, 'Olympiad': 1, 'stand': 1, 'ﬁle': 1, 'normal': 1, 'Quarantined': 1, 'Sports': 1, 'firebase': 1, 'bring': 1, 'mfcc': 1, 'processing': 1, 'Games': 1, 'MAHARSHI': 1, 'drive': 1, 'Intern': 1, 'spyder': 1, 'water': 1, 'ROHITH': 1, 'Image': 1, 'Avoiding': 1, 'Flutter': 1, 'audio': 1, 'ﬂutter': 1, 'NI': 1, 'Obstacle': 1, 'RESIDENTIAL': 1, 'yantra': 1, 'Analysis': 1, 'INTERNATIONAL': 1, 'chat': 1, 'avoid': 1, 'murky': 1, 'BEST': 1, 'LTSpice': 1, 'Work': 1, 'interests': 1, 'coppeliasim': 1, 'feature': 1, 'Umesh': 1, 'anomaly': 1, 'GRADUATION': 1, 'EXPERIENCE': 1, 'Pump': 1, 'society': 1, 'Tech': 1, 'BHUVANESHWARI': 1, 'BSC': 1, 'Cvat': 1, 'graduate': 1, 'sem': 1, 'extracurricular': 1, 'Department': 1, 'KNG': 1, 'Level': 1, 'Physics': 1, 'SERMATHAI': 1, 'Std': 1, 'SER': 1, 'MATHAI': 1, 'Rank': 1, 'JOSEPH': 1, 'acheivement': 1, 'WOMEN': 1, 'Point': 1, 'VASAN': 1, 'ST': 1, 'HIGH': 1, 'satisfy': 1, 'Test': 1, 'Excel': 1, 'CERTIFICATION': 1, 'Proficiency': 1, 'Englishin': 1, 'MATRICULATION': 1, 'accurately': 1, 'adapt': 1, 'ENGIN': 1, 'Bosch': 1, 'embark': 1, 'sound': 1, 'deadline': 1, 'eering': 1, 'produce': 1, 'DARRAN': 1, 'Groups': 1, 'Automotive': 1, 'Logic': 1, 'Expected': 1, 'NNAI': 1, 'ECONDARY': 1, 'Google': 1, 'Electricals': 1, 'focus': 1, 'Diagnosis': 1, 'surrounding': 1, 'electrical': 1, 'CHE': 1, 'conflict': 1, 'Speaker': 1, 'Electric': 1, 'French': 1, 'RD': 1, 'resonate': 1, 'roshan': 1, 'TECHINICAL': 1, 'DIVAKKAM': 1, 'ASPL': 1, 'PERFORMANCE': 1, 'DERRICK': 1, 'Keen': 1, 'Ansys': 1, 'series': 1, 'AOA': 1, 'TURBULENCE': 1, 'AZURE': 1, 'SNOWY': 1, 'MICROSOFT': 1, 'MA': 1, 'MAC': 1, 'spinn': 1, 'AB': 1, 'BADMINTON': 1, 'run': 1, 'SCHOLARSHIP': 1, 'intro': 1, 'altitude': 1, 'promising': 1, 'BONFIGLIOLI': 1, 'manufacturing': 1, 'Campus': 1, 'Mechanical': 1, 'Bot': 1, 'SIMULATI': 1, 'FFERENT': 1, 'VIRTUAL': 1, 'RISHI': 1, 'WET': 1, 'Azure': 1, 'DIGITAL': 1, 'NT': 1, 'std': 1, 'observer': 1, 'necessity': 1, 'desk': 1, 'FUSION': 1, 'INTENSIT': 1, 'Intermediate': 1, 'DEFENCE': 1, 'Rufus': 1, 'HANICAL': 1, 'forth': 1, 'ACTIVE': 1, 'FIBERS': 1, 'rsion': 1, 'DY': 1, 'VEHIC': 1, 'PHYSICS': 1, 'RUNNER': 1, 'PRIME': 1, 'MEC': 1, 'demo': 1, 'POLLUTION': 1, 'MECHANICAL': 1, 'biomass': 1, 'Engineer': 1, 'PERFORMANC': 1, 'INTODUCTION': 1, 'SOCIA': 1, 'ENGINEERS': 1, 'METHOD': 1, 'DEPARTMENT': 1, 'RUFUS': 1, 'BOT': 1, 'BALLISTIC': 1, 'SC': 1, 'CATERPILLAR': 1, 'Fusion': 1, 'MEDAL': 1, 'AMERICAN': 1, 'ATA': 1, 'READY': 1, 'face': 1, 'LEADER': 1, 'WHEEL': 1, 'Linke': 1, 'din': 1, 'FABRICATI': 1, 'PREPARED': 1, 'PAD': 1, 'NUMBER': 1, 'PROFILE': 1, 'HIGHE': 1, 'auto': 1, 'attachme': 1, 'TOURNAME': 1, 'LEVEL': 1, 'crash': 1, 'INNOVATION': 1, 'THIRUMU': 1, 'DESIGN': 1, 'PLACE': 1, 'AIRFOIL': 1, 'HOLARSHIP': 1, 'triculation': 1, 'ONGOING': 1, 'STU': 1, 'TALEN': 1, 'CLUB': 1, 'soft': 1, 'IEEE': 1, 'SE': 1, 'Creo': 1, 'TOPPER': 1, 'MATHS': 1, 'Derrick': 1, 'MCC': 1, 'future': 1, 'ufacture': 1, 'ARMOUR': 1, 'INTERSCHOO': 1, 'CAMPUS': 1, 'long': 1, 'SSERD': 1, 'ASME': 1, 'FUTURE': 1, 'QUIZ': 1, 'DENT': 1, 'MAN': 1, 'AWARENESS': 1, 'DI': 1, 'GOLD': 1, 'SOCIETY': 1, 'YRC': 1, 'BIOREFINER': 1, 'IST': 1, 'ZONAL': 1, 'epler': 1, 'case': 1, 'STD': 1, 'INTERNSHIPS': 1, 'ANO': 1, 'LES': 1, 'AUTOMATION': 1, 'conve': 1, 'NASSCOM': 1, 'ING': 1, 'SUBJECT': 1, 'achieve': 1, 'strengths': 1, 'vikas': 1, 'Approaches': 1, 'EEG': 1, 'Logistic': 1, 'Trichy': 1, 'Kovil': 1, 'HARISURIYA': 1, 'Neural': 1, 'Virattipathu': 1, 'classification': 1, 'SVM': 1, 'HSS': 1, 'sincerely': 1, 'examine': 1, 'signal': 1, 'eye': 1, 'Certificate': 1, 'boy': 1, 'purpose': 1, 'minute': 1, 'conscious': 1, 'Vector': 1, 'Vidyaa': 1, 'Irrespective': 1, 'BIT': 1, 'Quantanics': 1, 'Ayyanar': 1, 'namakkal': 1, 'lstm': 1, 'Maduari': 1, 'PASSING': 1, 'wholeheartedly': 1, 'rely': 1})\n"
     ]
    }
   ],
   "source": [
    "import collections\n",
    "\n",
    "all_tokens=[]\n",
    "for file in files:\n",
    "    reader = PdfReader(file)\n",
    "    text=reader.pages[0].extract_text()\n",
    "    doc=nlp(text)\n",
    "    tokens=create_tokens(doc)\n",
    "    all_tokens+=tokens\n",
    "    \n",
    "# We are sure there are many tokens which are occurring more than once\n",
    "# Generate a 'Counter' dictionary of all such tokens with values being their number of occurrences\n",
    "frequency= collections.Counter(all_tokens)\n",
    "\n",
    "print(frequency)"
   ]
  },
  {
   "cell_type": "markdown",
   "id": "7ee0eede",
   "metadata": {
    "papermill": {
     "duration": 0.00856,
     "end_time": "2022-08-27T12:11:53.138985",
     "exception": false,
     "start_time": "2022-08-27T12:11:53.130425",
     "status": "completed"
    },
    "tags": []
   },
   "source": [
    "2. **Data Visualisation:**\n",
    "Using Matplotlib we plot a bar plot with the common 85 tokens"
   ]
  },
  {
   "cell_type": "code",
   "execution_count": 8,
   "id": "427650f5",
   "metadata": {
    "execution": {
     "iopub.execute_input": "2022-08-27T12:11:53.158069Z",
     "iopub.status.busy": "2022-08-27T12:11:53.157571Z",
     "iopub.status.idle": "2022-08-27T12:11:55.222994Z",
     "shell.execute_reply": "2022-08-27T12:11:55.221459Z"
    },
    "papermill": {
     "duration": 2.07908,
     "end_time": "2022-08-27T12:11:55.226542",
     "exception": false,
     "start_time": "2022-08-27T12:11:53.147462",
     "status": "completed"
    },
    "tags": []
   },
   "outputs": [
    {
     "name": "stdout",
     "output_type": "stream",
     "text": [
      "{'Engineering': 21, 'College': 19, 'CGPA': 17, 'skill': 16, 'Python': 14, 'learn': 14, 'Tamil': 14, 'work': 13, 'high': 12, 'objective': 12, 'language': 12, 'school': 11, 'knowledge': 11, 'India': 11, 'Science': 11, 'School': 11, 'Sri': 10, 'project': 10, 'opportunity': 9, 'development': 9, 'team': 9, 'SSN': 9, 'Secondary': 9, 'Electronics': 9, 'EDUCATION': 8, 'problem': 8, 'Machine': 8, 'Learning': 8, 'programming': 8, 'career': 8, 'Development': 8, 'Chennai': 8, 'Computer': 8, 'web': 8, 'solve': 8, 'student': 8, 'University': 8, 'SKILLS': 8, 'Nadar': 7, 'field': 7, 'college': 7, 'English': 7, 'develop': 7, 'Madurai': 7, 'CSS': 7, 'education': 7, 'Java': 7, 'organization': 7, 'good': 7, 'State': 7}\n"
     ]
    },
    {
     "data": {
      "image/png": "[encoded data removed]",
      "text/plain": [
       "<Figure size 8640x3600 with 1 Axes>"
      ]
     },
     "metadata": {
      "needs_background": "light"
     },
     "output_type": "display_data"
    }
   ],
   "source": [
    "import matplotlib.pyplot as plt\n",
    "\n",
    "plt.rcParams[\"figure.figsize\"] = (120,50)\n",
    "\n",
    "common_frequency=dict(frequency.most_common(50))\n",
    "print(common_frequency)\n",
    "\n",
    "keys=list(common_frequency.keys())\n",
    "values=list(common_frequency.values())\n",
    "\n",
    "plt.bar(range(len(common_frequency)),values, tick_label=keys)\n",
    "plt.show()"
   ]
  },
  {
   "cell_type": "markdown",
   "id": "a5c32c38",
   "metadata": {
    "papermill": {
     "duration": 0.010508,
     "end_time": "2022-08-27T12:11:55.247798",
     "exception": false,
     "start_time": "2022-08-27T12:11:55.237290",
     "status": "completed"
    },
    "tags": []
   },
   "source": [
    "# Adding 25 more Keywords"
   ]
  },
  {
   "cell_type": "markdown",
   "id": "729b1525",
   "metadata": {
    "papermill": {
     "duration": 0.009822,
     "end_time": "2022-08-27T12:11:55.267888",
     "exception": false,
     "start_time": "2022-08-27T12:11:55.258066",
     "status": "completed"
    },
    "tags": []
   },
   "source": [
    "We add 25 more keywords and with 100 word features, we will develop a ML model for classifying good CVs."
   ]
  },
  {
   "cell_type": "code",
   "execution_count": 9,
   "id": "a038cfae",
   "metadata": {
    "execution": {
     "iopub.execute_input": "2022-08-27T12:11:55.290402Z",
     "iopub.status.busy": "2022-08-27T12:11:55.289643Z",
     "iopub.status.idle": "2022-08-27T12:11:55.301209Z",
     "shell.execute_reply": "2022-08-27T12:11:55.299965Z"
    },
    "papermill": {
     "duration": 0.025768,
     "end_time": "2022-08-27T12:11:55.303874",
     "exception": false,
     "start_time": "2022-08-27T12:11:55.278106",
     "status": "completed"
    },
    "tags": []
   },
   "outputs": [
    {
     "name": "stdout",
     "output_type": "stream",
     "text": [
      "Length of all keywords:\t 166\n",
      "\n",
      "['Engineering', 'College', 'CGPA', 'skill', 'Python', 'learn', 'Tamil', 'work', 'high', 'objective', 'language', 'school', 'knowledge', 'India', 'Science', 'School', 'Sri', 'project', 'opportunity', 'development', 'team', 'SSN', 'Secondary', 'Electronics', 'EDUCATION', 'problem', 'Machine', 'Learning', 'programming', 'career', 'Development', 'Chennai', 'Computer', 'web', 'solve', 'student', 'University', 'SKILLS', 'Nadar', 'field', 'college', 'English', 'develop', 'Madurai', 'CSS', 'education', 'Java', 'organization', 'good', 'State', 'arduino', 'eclipse', 'raspberry pi', 'electric vehicle technology', 'electric vehicle', 'autonomous vehicle technology', 'matlab', 'openscada', 'microsoft azure iot kits', 'microsoft azure', 'devicehive ', 'devicehub', 'tessel', 'kinoma', 'analytics', 'api', 'aws', 'big data', 'busines intelligence', 'clustering', 'code', 'coding', 'data', 'database', 'data mining', 'data science', 'deep learning', 'hadoop', 'hypothesis test', 'iot', 'internet', 'machine learning', 'modeling', 'nosql', 'nlp', 'predictive', 'programming', 'python', 'r', 'sql', 'tableau', 'text mining', 'visualuzation', 'regression', 'unity', 'vuforia', 'wikitude', 'Enklu', 'bigdata', 'administration', 'agile', 'budget', 'cost', 'direction', 'feasibility analysis', 'finance', 'kanban', 'leader', 'leadership', 'management', 'milestones', 'planning', 'pmi', 'pmp', 'problem', 'project', 'risk', 'schedule', 'scrum', 'stakeholdersdevops', 'deep learning', 'machine learning', 'artificial intelligence', 'tensorflow', 'mlflow', 'numpy', 'pytorch', 'keras', 'pandas', 'classification', 'metrics', 'r', 'scikit', 'weka', 'knime', 'ml', 'ai', 'flutter', 'api', 'dart', 'kotlin', 'java', 'android studio', 'git', 'react', 'vue js', 'react js', 'express js', 'node', 'npm', 'jenkins', 'xamarin', 'docker', 'flask', 'django', 'javascript', 'selenium', 'postgresql', 'mongodb', 'mysql', 'python', 'angular js', 'mern stack', 'mean stack', 'selenium', 'xcode']\n"
     ]
    }
   ],
   "source": [
    "user_keywords=['arduino','eclipse','raspberry pi','electric vehicle technology','electric vehicle','autonomous vehicle technology','matlab','openscada','microsoft azure iot kits','microsoft azure','devicehive ','devicehub','tessel','kinoma','analytics','api','aws','big data','busines intelligence','clustering','code','coding','data','database','data mining','data science','deep learning','hadoop','hypothesis test','iot','internet','machine learning','modeling','nosql','nlp','predictive','programming','python','r','sql','tableau','text mining','visualuzation','regression','unity','vuforia','wikitude','Enklu','bigdata','administration','agile','budget','cost','direction','feasibility analysis','finance','kanban','leader','leadership','management','milestones','planning','pmi','pmp','problem','project','risk','schedule','scrum','stakeholders''devops','deep learning','machine learning','artificial intelligence','tensorflow', 'mlflow','numpy','pytorch','keras','pandas','classification','metrics','r','scikit','weka','knime','ml','ai','flutter','api','dart','kotlin','java','android studio','git','react','vue js','react js','express js','node','npm','jenkins','xamarin','docker','flask','django','javascript','selenium','postgresql','mongodb','mysql','python','angular js','mern stack','mean stack','selenium','xcode',]\n",
    "all_keywords=list(common_frequency)\n",
    "all_keywords+=user_keywords\n",
    "\n",
    "print(\"Length of all keywords:\\t\",len(all_keywords),end='\\n\\n')\n",
    "print(all_keywords)"
   ]
  },
  {
   "cell_type": "markdown",
   "id": "97df027e",
   "metadata": {
    "papermill": {
     "duration": 0.009986,
     "end_time": "2022-08-27T12:11:55.324324",
     "exception": false,
     "start_time": "2022-08-27T12:11:55.314338",
     "status": "completed"
    },
    "tags": []
   },
   "source": [
    "# Using  BERT Model for prediction\n",
    "Installing Transformers for BERT Model"
   ]
  },
  {
   "cell_type": "code",
   "execution_count": 10,
   "id": "82e36de7",
   "metadata": {
    "execution": {
     "iopub.execute_input": "2022-08-27T12:11:55.347314Z",
     "iopub.status.busy": "2022-08-27T12:11:55.346465Z",
     "iopub.status.idle": "2022-08-27T12:11:55.362416Z",
     "shell.execute_reply": "2022-08-27T12:11:55.361148Z"
    },
    "papermill": {
     "duration": 0.030195,
     "end_time": "2022-08-27T12:11:55.364866",
     "exception": false,
     "start_time": "2022-08-27T12:11:55.334671",
     "status": "completed"
    },
    "tags": []
   },
   "outputs": [
    {
     "name": "stdout",
     "output_type": "stream",
     "text": [
      "[[  101   100   100 ...     0     0     0]\n",
      " [  101   100  2613 ...     0     0     0]\n",
      " [  101  4145   100 ...     0     0     0]\n",
      " ...\n",
      " [  101   100 14125 ...     0     0     0]\n",
      " [  101   100   100 ...   100   100   102]\n",
      " [  101   100   100 ...     0     0     0]]\n"
     ]
    },
    {
     "data": {
      "text/plain": [
       "(32, 220)"
      ]
     },
     "execution_count": 10,
     "metadata": {},
     "output_type": "execute_result"
    }
   ],
   "source": [
    "import numpy as np\n",
    "max_len = 0\n",
    "for i in df['Tokens']:\n",
    "    if len(i) > max_len:\n",
    "        max_len = len(i)\n",
    "\n",
    "padded = np.array([i + [0]*(max_len-len(i)) for i in df['Tokens']])\n",
    "\n",
    "print(padded)\n",
    "np.array(padded).shape"
   ]
  },
  {
   "cell_type": "code",
   "execution_count": 11,
   "id": "b4433447",
   "metadata": {
    "execution": {
     "iopub.execute_input": "2022-08-27T12:11:55.387838Z",
     "iopub.status.busy": "2022-08-27T12:11:55.386809Z",
     "iopub.status.idle": "2022-08-27T12:12:01.480914Z",
     "shell.execute_reply": "2022-08-27T12:12:01.479607Z"
    },
    "papermill": {
     "duration": 6.108445,
     "end_time": "2022-08-27T12:12:01.483599",
     "exception": false,
     "start_time": "2022-08-27T12:11:55.375154",
     "status": "completed"
    },
    "tags": []
   },
   "outputs": [
    {
     "name": "stdout",
     "output_type": "stream",
     "text": [
      "[[-0.29298982 -0.09550267  0.0370551  ... -0.19995363  0.2361896\n",
      "   0.24851884]\n",
      " [-0.18260035 -0.04608003  0.06167796 ... -0.12193196  0.23484784\n",
      "   0.22968186]\n",
      " [-0.23330516 -0.17743954 -0.09522503 ... -0.11328023  0.20885743\n",
      "   0.09813882]\n",
      " ...\n",
      " [-0.12256203  0.06657626  0.00891171 ... -0.08576306  0.2651151\n",
      "   0.09257162]\n",
      " [-0.1834341   0.14949983  0.06752267 ... -0.1958358   0.25175616\n",
      "   0.02784571]\n",
      " [-0.25169227  0.04531458 -0.10750173 ... -0.08643235  0.30166754\n",
      "   0.1750189 ]]\n"
     ]
    }
   ],
   "source": [
    "attention_mask = np.where(padded != 0, 1, 0)\n",
    "attention_mask.shape\n",
    "input_ids = torch.tensor(padded)  \n",
    "attention_mask = torch.tensor(attention_mask)\n",
    "\n",
    "with torch.no_grad():\n",
    "    last_hidden_states = model(input_ids, attention_mask=attention_mask)\n",
    "    \n",
    "features = last_hidden_states[0][:,0,:].numpy()\n",
    "\n",
    "print(features)"
   ]
  }
 ],
 "metadata": {
  "kernelspec": {
   "display_name": "Python 3",
   "language": "python",
   "name": "python3"
  },
  "language_info": {
   "codemirror_mode": {
    "name": "ipython",
    "version": 3
   },
   "file_extension": ".py",
   "mimetype": "text/x-python",
   "name": "python",
   "nbconvert_exporter": "python",
   "pygments_lexer": "ipython3",
   "version": "3.7.12"
  },
  "papermill": {
   "default_parameters": {},
   "duration": 110.852017,
   "end_time": "2022-08-27T12:12:04.855204",
   "environment_variables": {},
   "exception": null,
   "input_path": "__notebook__.ipynb",
   "output_path": "__notebook__.ipynb",
   "parameters": {},
   "start_time": "2022-08-27T12:10:14.003187",
   "version": "2.3.4"
  },
  "widgets": {
   "application/vnd.jupyter.widget-state+json": {
    "state": {
     "0d1f8b6a67124e0e8f0e79bfeed66bbc": {
      "model_module": "@jupyter-widgets/controls",
      "model_module_version": "1.5.0",
      "model_name": "FloatProgressModel",
      "state": {
       "_dom_classes": [],
       "_model_module": "@jupyter-widgets/controls",
       "_model_module_version": "1.5.0",
       "_model_name": "FloatProgressModel",
       "_view_count": null,
       "_view_module": "@jupyter-widgets/controls",
       "_view_module_version": "1.5.0",
       "_view_name": "ProgressView",
       "bar_style": "success",
       "description": "",
       "description_tooltip": null,
       "layout": "IPY_MODEL_599cb8dbece24f5580da5af02c5eff22",
       "max": 483.0,
       "min": 0.0,
       "orientation": "horizontal",
       "style": "IPY_MODEL_10f2f995dfb3486090369c62abdfaf4a",
       "value": 483.0
      }
     },
     "10f2f995dfb3486090369c62abdfaf4a": {
      "model_module": "@jupyter-widgets/controls",
      "model_module_version": "1.5.0",
      "model_name": "ProgressStyleModel",
      "state": {
       "_model_module": "@jupyter-widgets/controls",
       "_model_module_version": "1.5.0",
       "_model_name": "ProgressStyleModel",
       "_view_count": null,
       "_view_module": "@jupyter-widgets/base",
       "_view_module_version": "1.2.0",
       "_view_name": "StyleView",
       "bar_color": null,
       "description_width": ""
      }
     },
     "1e2fd5bf8339484eabb0219fcc87990d": {
      "model_module": "@jupyter-widgets/base",
      "model_module_version": "1.2.0",
      "model_name": "LayoutModel",
      "state": {
       "_model_module": "@jupyter-widgets/base",
       "_model_module_version": "1.2.0",
       "_model_name": "LayoutModel",
       "_view_count": null,
       "_view_module": "@jupyter-widgets/base",
       "_view_module_version": "1.2.0",
       "_view_name": "LayoutView",
       "align_content": null,
       "align_items": null,
       "align_self": null,
       "border": null,
       "bottom": null,
       "display": null,
       "flex": null,
       "flex_flow": null,
       "grid_area": null,
       "grid_auto_columns": null,
       "grid_auto_flow": null,
       "grid_auto_rows": null,
       "grid_column": null,
       "grid_gap": null,
       "grid_row": null,
       "grid_template_areas": null,
       "grid_template_columns": null,
       "grid_template_rows": null,
       "height": null,
       "justify_content": null,
       "justify_items": null,
       "left": null,
       "margin": null,
       "max_height": null,
       "max_width": null,
       "min_height": null,
       "min_width": null,
       "object_fit": null,
       "object_position": null,
       "order": null,
       "overflow": null,
       "overflow_x": null,
       "overflow_y": null,
       "padding": null,
       "right": null,
       "top": null,
       "visibility": null,
       "width": null
      }
     },
     "221727ba2b644ee3813483f63baa0e93": {
      "model_module": "@jupyter-widgets/controls",
      "model_module_version": "1.5.0",
      "model_name": "HTMLModel",
      "state": {
       "_dom_classes": [],
       "_model_module": "@jupyter-widgets/controls",
       "_model_module_version": "1.5.0",
       "_model_name": "HTMLModel",
       "_view_count": null,
       "_view_module": "@jupyter-widgets/controls",
       "_view_module_version": "1.5.0",
       "_view_name": "HTMLView",
       "description": "",
       "description_tooltip": null,
       "layout": "IPY_MODEL_5d6ec09fddd54f6ca3da79c657eb6385",
       "placeholder": "​",
       "style": "IPY_MODEL_c4056ddf80954178ab33fb25e4ab1db5",
       "value": "Downloading: 100%"
      }
     },
     "2ff69abcb91d41e0adcb22b33523376e": {
      "model_module": "@jupyter-widgets/base",
      "model_module_version": "1.2.0",
      "model_name": "LayoutModel",
      "state": {
       "_model_module": "@jupyter-widgets/base",
       "_model_module_version": "1.2.0",
       "_model_name": "LayoutModel",
       "_view_count": null,
       "_view_module": "@jupyter-widgets/base",
       "_view_module_version": "1.2.0",
       "_view_name": "LayoutView",
       "align_content": null,
       "align_items": null,
       "align_self": null,
       "border": null,
       "bottom": null,
       "display": null,
       "flex": null,
       "flex_flow": null,
       "grid_area": null,
       "grid_auto_columns": null,
       "grid_auto_flow": null,
       "grid_auto_rows": null,
       "grid_column": null,
       "grid_gap": null,
       "grid_row": null,
       "grid_template_areas": null,
       "grid_template_columns": null,
       "grid_template_rows": null,
       "height": null,
       "justify_content": null,
       "justify_items": null,
       "left": null,
       "margin": null,
       "max_height": null,
       "max_width": null,
       "min_height": null,
       "min_width": null,
       "object_fit": null,
       "object_position": null,
       "order": null,
       "overflow": null,
       "overflow_x": null,
       "overflow_y": null,
       "padding": null,
       "right": null,
       "top": null,
       "visibility": null,
       "width": null
      }
     },
     "34281823bc8549478a64d3a016a543c1": {
      "model_module": "@jupyter-widgets/base",
      "model_module_version": "1.2.0",
      "model_name": "LayoutModel",
      "state": {
       "_model_module": "@jupyter-widgets/base",
       "_model_module_version": "1.2.0",
       "_model_name": "LayoutModel",
       "_view_count": null,
       "_view_module": "@jupyter-widgets/base",
       "_view_module_version": "1.2.0",
       "_view_name": "LayoutView",
       "align_content": null,
       "align_items": null,
       "align_self": null,
       "border": null,
       "bottom": null,
       "display": null,
       "flex": null,
       "flex_flow": null,
       "grid_area": null,
       "grid_auto_columns": null,
       "grid_auto_flow": null,
       "grid_auto_rows": null,
       "grid_column": null,
       "grid_gap": null,
       "grid_row": null,
       "grid_template_areas": null,
       "grid_template_columns": null,
       "grid_template_rows": null,
       "height": null,
       "justify_content": null,
       "justify_items": null,
       "left": null,
       "margin": null,
       "max_height": null,
       "max_width": null,
       "min_height": null,
       "min_width": null,
       "object_fit": null,
       "object_position": null,
       "order": null,
       "overflow": null,
       "overflow_x": null,
       "overflow_y": null,
       "padding": null,
       "right": null,
       "top": null,
       "visibility": null,
       "width": null
      }
     },
     "34c094b14ec4412d8e47718127808da9": {
      "model_module": "@jupyter-widgets/controls",
      "model_module_version": "1.5.0",
      "model_name": "HTMLModel",
      "state": {
       "_dom_classes": [],
       "_model_module": "@jupyter-widgets/controls",
       "_model_module_version": "1.5.0",
       "_model_name": "HTMLModel",
       "_view_count": null,
       "_view_module": "@jupyter-widgets/controls",
       "_view_module_version": "1.5.0",
       "_view_name": "HTMLView",
       "description": "",
       "description_tooltip": null,
       "layout": "IPY_MODEL_9c2bf6a72a1a4f8db88413f90d2f563b",
       "placeholder": "​",
       "style": "IPY_MODEL_8ad6d531c0e94c7faa5603952f214e99",
       "value": "Downloading: 100%"
      }
     },
     "3b9f05a2f1ed40f7b803146ffb7c7667": {
      "model_module": "@jupyter-widgets/base",
      "model_module_version": "1.2.0",
      "model_name": "LayoutModel",
      "state": {
       "_model_module": "@jupyter-widgets/base",
       "_model_module_version": "1.2.0",
       "_model_name": "LayoutModel",
       "_view_count": null,
       "_view_module": "@jupyter-widgets/base",
       "_view_module_version": "1.2.0",
       "_view_name": "LayoutView",
       "align_content": null,
       "align_items": null,
       "align_self": null,
       "border": null,
       "bottom": null,
       "display": null,
       "flex": null,
       "flex_flow": null,
       "grid_area": null,
       "grid_auto_columns": null,
       "grid_auto_flow": null,
       "grid_auto_rows": null,
       "grid_column": null,
       "grid_gap": null,
       "grid_row": null,
       "grid_template_areas": null,
       "grid_template_columns": null,
       "grid_template_rows": null,
       "height": null,
       "justify_content": null,
       "justify_items": null,
       "left": null,
       "margin": null,
       "max_height": null,
       "max_width": null,
       "min_height": null,
       "min_width": null,
       "object_fit": null,
       "object_position": null,
       "order": null,
       "overflow": null,
       "overflow_x": null,
       "overflow_y": null,
       "padding": null,
       "right": null,
       "top": null,
       "visibility": null,
       "width": null
      }
     },
     "4e616ce619cb456d803f89c3d1581611": {
      "model_module": "@jupyter-widgets/controls",
      "model_module_version": "1.5.0",
      "model_name": "DescriptionStyleModel",
      "state": {
       "_model_module": "@jupyter-widgets/controls",
       "_model_module_version": "1.5.0",
       "_model_name": "DescriptionStyleModel",
       "_view_count": null,
       "_view_module": "@jupyter-widgets/base",
       "_view_module_version": "1.2.0",
       "_view_name": "StyleView",
       "description_width": ""
      }
     },
     "5251fa710d484e58b070cc1510509a58": {
      "model_module": "@jupyter-widgets/controls",
      "model_module_version": "1.5.0",
      "model_name": "HBoxModel",
      "state": {
       "_dom_classes": [],
       "_model_module": "@jupyter-widgets/controls",
       "_model_module_version": "1.5.0",
       "_model_name": "HBoxModel",
       "_view_count": null,
       "_view_module": "@jupyter-widgets/controls",
       "_view_module_version": "1.5.0",
       "_view_name": "HBoxView",
       "box_style": "",
       "children": [
        "IPY_MODEL_52d741d78d8d4f54818cfa6487c33b25",
        "IPY_MODEL_cd90bce4bebc4452960510544864fd55",
        "IPY_MODEL_5ae85a4f8259484a87ead5e5c0861cfc"
       ],
       "layout": "IPY_MODEL_5c88d2ce459542aa88bad6d02be8ab4b"
      }
     },
     "52d741d78d8d4f54818cfa6487c33b25": {
      "model_module": "@jupyter-widgets/controls",
      "model_module_version": "1.5.0",
      "model_name": "HTMLModel",
      "state": {
       "_dom_classes": [],
       "_model_module": "@jupyter-widgets/controls",
       "_model_module_version": "1.5.0",
       "_model_name": "HTMLModel",
       "_view_count": null,
       "_view_module": "@jupyter-widgets/controls",
       "_view_module_version": "1.5.0",
       "_view_name": "HTMLView",
       "description": "",
       "description_tooltip": null,
       "layout": "IPY_MODEL_9ea2978ece454110a97687418c924119",
       "placeholder": "​",
       "style": "IPY_MODEL_4e616ce619cb456d803f89c3d1581611",
       "value": "Downloading: 100%"
      }
     },
     "599cb8dbece24f5580da5af02c5eff22": {
      "model_module": "@jupyter-widgets/base",
      "model_module_version": "1.2.0",
      "model_name": "LayoutModel",
      "state": {
       "_model_module": "@jupyter-widgets/base",
       "_model_module_version": "1.2.0",
       "_model_name": "LayoutModel",
       "_view_count": null,
       "_view_module": "@jupyter-widgets/base",
       "_view_module_version": "1.2.0",
       "_view_name": "LayoutView",
       "align_content": null,
       "align_items": null,
       "align_self": null,
       "border": null,
       "bottom": null,
       "display": null,
       "flex": null,
       "flex_flow": null,
       "grid_area": null,
       "grid_auto_columns": null,
       "grid_auto_flow": null,
       "grid_auto_rows": null,
       "grid_column": null,
       "grid_gap": null,
       "grid_row": null,
       "grid_template_areas": null,
       "grid_template_columns": null,
       "grid_template_rows": null,
       "height": null,
       "justify_content": null,
       "justify_items": null,
       "left": null,
       "margin": null,
       "max_height": null,
       "max_width": null,
       "min_height": null,
       "min_width": null,
       "object_fit": null,
       "object_position": null,
       "order": null,
       "overflow": null,
       "overflow_x": null,
       "overflow_y": null,
       "padding": null,
       "right": null,
       "top": null,
       "visibility": null,
       "width": null
      }
     },
     "5ae85a4f8259484a87ead5e5c0861cfc": {
      "model_module": "@jupyter-widgets/controls",
      "model_module_version": "1.5.0",
      "model_name": "HTMLModel",
      "state": {
       "_dom_classes": [],
       "_model_module": "@jupyter-widgets/controls",
       "_model_module_version": "1.5.0",
       "_model_name": "HTMLModel",
       "_view_count": null,
       "_view_module": "@jupyter-widgets/controls",
       "_view_module_version": "1.5.0",
       "_view_name": "HTMLView",
       "description": "",
       "description_tooltip": null,
       "layout": "IPY_MODEL_c9481b2485d9437fb69aa32768d12fb9",
       "placeholder": "​",
       "style": "IPY_MODEL_768dcdeb4b4947f8905c78617706fea1",
       "value": " 256M/256M [00:23&lt;00:00, 12.1MB/s]"
      }
     },
     "5c88d2ce459542aa88bad6d02be8ab4b": {
      "model_module": "@jupyter-widgets/base",
      "model_module_version": "1.2.0",
      "model_name": "LayoutModel",
      "state": {
       "_model_module": "@jupyter-widgets/base",
       "_model_module_version": "1.2.0",
       "_model_name": "LayoutModel",
       "_view_count": null,
       "_view_module": "@jupyter-widgets/base",
       "_view_module_version": "1.2.0",
       "_view_name": "LayoutView",
       "align_content": null,
       "align_items": null,
       "align_self": null,
       "border": null,
       "bottom": null,
       "display": null,
       "flex": null,
       "flex_flow": null,
       "grid_area": null,
       "grid_auto_columns": null,
       "grid_auto_flow": null,
       "grid_auto_rows": null,
       "grid_column": null,
       "grid_gap": null,
       "grid_row": null,
       "grid_template_areas": null,
       "grid_template_columns": null,
       "grid_template_rows": null,
       "height": null,
       "justify_content": null,
       "justify_items": null,
       "left": null,
       "margin": null,
       "max_height": null,
       "max_width": null,
       "min_height": null,
       "min_width": null,
       "object_fit": null,
       "object_position": null,
       "order": null,
       "overflow": null,
       "overflow_x": null,
       "overflow_y": null,
       "padding": null,
       "right": null,
       "top": null,
       "visibility": null,
       "width": null
      }
     },
     "5d6ec09fddd54f6ca3da79c657eb6385": {
      "model_module": "@jupyter-widgets/base",
      "model_module_version": "1.2.0",
      "model_name": "LayoutModel",
      "state": {
       "_model_module": "@jupyter-widgets/base",
       "_model_module_version": "1.2.0",
       "_model_name": "LayoutModel",
       "_view_count": null,
       "_view_module": "@jupyter-widgets/base",
       "_view_module_version": "1.2.0",
       "_view_name": "LayoutView",
       "align_content": null,
       "align_items": null,
       "align_self": null,
       "border": null,
       "bottom": null,
       "display": null,
       "flex": null,
       "flex_flow": null,
       "grid_area": null,
       "grid_auto_columns": null,
       "grid_auto_flow": null,
       "grid_auto_rows": null,
       "grid_column": null,
       "grid_gap": null,
       "grid_row": null,
       "grid_template_areas": null,
       "grid_template_columns": null,
       "grid_template_rows": null,
       "height": null,
       "justify_content": null,
       "justify_items": null,
       "left": null,
       "margin": null,
       "max_height": null,
       "max_width": null,
       "min_height": null,
       "min_width": null,
       "object_fit": null,
       "object_position": null,
       "order": null,
       "overflow": null,
       "overflow_x": null,
       "overflow_y": null,
       "padding": null,
       "right": null,
       "top": null,
       "visibility": null,
       "width": null
      }
     },
     "60295f01b1e6464cbc212753d3becdc4": {
      "model_module": "@jupyter-widgets/controls",
      "model_module_version": "1.5.0",
      "model_name": "HTMLModel",
      "state": {
       "_dom_classes": [],
       "_model_module": "@jupyter-widgets/controls",
       "_model_module_version": "1.5.0",
       "_model_name": "HTMLModel",
       "_view_count": null,
       "_view_module": "@jupyter-widgets/controls",
       "_view_module_version": "1.5.0",
       "_view_name": "HTMLView",
       "description": "",
       "description_tooltip": null,
       "layout": "IPY_MODEL_644ea46e75b047ac8ea631d02a6d6b71",
       "placeholder": "​",
       "style": "IPY_MODEL_65bd288b952d4a18880af0ffd3e5ae3a",
       "value": " 483/483 [00:00&lt;00:00, 15.9kB/s]"
      }
     },
     "644ea46e75b047ac8ea631d02a6d6b71": {
      "model_module": "@jupyter-widgets/base",
      "model_module_version": "1.2.0",
      "model_name": "LayoutModel",
      "state": {
       "_model_module": "@jupyter-widgets/base",
       "_model_module_version": "1.2.0",
       "_model_name": "LayoutModel",
       "_view_count": null,
       "_view_module": "@jupyter-widgets/base",
       "_view_module_version": "1.2.0",
       "_view_name": "LayoutView",
       "align_content": null,
       "align_items": null,
       "align_self": null,
       "border": null,
       "bottom": null,
       "display": null,
       "flex": null,
       "flex_flow": null,
       "grid_area": null,
       "grid_auto_columns": null,
       "grid_auto_flow": null,
       "grid_auto_rows": null,
       "grid_column": null,
       "grid_gap": null,
       "grid_row": null,
       "grid_template_areas": null,
       "grid_template_columns": null,
       "grid_template_rows": null,
       "height": null,
       "justify_content": null,
       "justify_items": null,
       "left": null,
       "margin": null,
       "max_height": null,
       "max_width": null,
       "min_height": null,
       "min_width": null,
       "object_fit": null,
       "object_position": null,
       "order": null,
       "overflow": null,
       "overflow_x": null,
       "overflow_y": null,
       "padding": null,
       "right": null,
       "top": null,
       "visibility": null,
       "width": null
      }
     },
     "65bd288b952d4a18880af0ffd3e5ae3a": {
      "model_module": "@jupyter-widgets/controls",
      "model_module_version": "1.5.0",
      "model_name": "DescriptionStyleModel",
      "state": {
       "_model_module": "@jupyter-widgets/controls",
       "_model_module_version": "1.5.0",
       "_model_name": "DescriptionStyleModel",
       "_view_count": null,
       "_view_module": "@jupyter-widgets/base",
       "_view_module_version": "1.2.0",
       "_view_name": "StyleView",
       "description_width": ""
      }
     },
     "6620b07342d14a059237c4f03610bff2": {
      "model_module": "@jupyter-widgets/controls",
      "model_module_version": "1.5.0",
      "model_name": "HBoxModel",
      "state": {
       "_dom_classes": [],
       "_model_module": "@jupyter-widgets/controls",
       "_model_module_version": "1.5.0",
       "_model_name": "HBoxModel",
       "_view_count": null,
       "_view_module": "@jupyter-widgets/controls",
       "_view_module_version": "1.5.0",
       "_view_name": "HBoxView",
       "box_style": "",
       "children": [
        "IPY_MODEL_f923c2d7fbd04272859b73aacd2870a7",
        "IPY_MODEL_911317d32de74fcc902a0886e0344a56",
        "IPY_MODEL_e97f4f4436eb49beb8ee698e3977380c"
       ],
       "layout": "IPY_MODEL_bc93b3feb9d04d49af3863a4305c028f"
      }
     },
     "73392cf390e64da3b0dddc54dd2da925": {
      "model_module": "@jupyter-widgets/controls",
      "model_module_version": "1.5.0",
      "model_name": "DescriptionStyleModel",
      "state": {
       "_model_module": "@jupyter-widgets/controls",
       "_model_module_version": "1.5.0",
       "_model_name": "DescriptionStyleModel",
       "_view_count": null,
       "_view_module": "@jupyter-widgets/base",
       "_view_module_version": "1.2.0",
       "_view_name": "StyleView",
       "description_width": ""
      }
     },
     "7658710f31224e829ef088aa684aaa23": {
      "model_module": "@jupyter-widgets/base",
      "model_module_version": "1.2.0",
      "model_name": "LayoutModel",
      "state": {
       "_model_module": "@jupyter-widgets/base",
       "_model_module_version": "1.2.0",
       "_model_name": "LayoutModel",
       "_view_count": null,
       "_view_module": "@jupyter-widgets/base",
       "_view_module_version": "1.2.0",
       "_view_name": "LayoutView",
       "align_content": null,
       "align_items": null,
       "align_self": null,
       "border": null,
       "bottom": null,
       "display": null,
       "flex": null,
       "flex_flow": null,
       "grid_area": null,
       "grid_auto_columns": null,
       "grid_auto_flow": null,
       "grid_auto_rows": null,
       "grid_column": null,
       "grid_gap": null,
       "grid_row": null,
       "grid_template_areas": null,
       "grid_template_columns": null,
       "grid_template_rows": null,
       "height": null,
       "justify_content": null,
       "justify_items": null,
       "left": null,
       "margin": null,
       "max_height": null,
       "max_width": null,
       "min_height": null,
       "min_width": null,
       "object_fit": null,
       "object_position": null,
       "order": null,
       "overflow": null,
       "overflow_x": null,
       "overflow_y": null,
       "padding": null,
       "right": null,
       "top": null,
       "visibility": null,
       "width": null
      }
     },
     "768dcdeb4b4947f8905c78617706fea1": {
      "model_module": "@jupyter-widgets/controls",
      "model_module_version": "1.5.0",
      "model_name": "DescriptionStyleModel",
      "state": {
       "_model_module": "@jupyter-widgets/controls",
       "_model_module_version": "1.5.0",
       "_model_name": "DescriptionStyleModel",
       "_view_count": null,
       "_view_module": "@jupyter-widgets/base",
       "_view_module_version": "1.2.0",
       "_view_name": "StyleView",
       "description_width": ""
      }
     },
     "8ad6d531c0e94c7faa5603952f214e99": {
      "model_module": "@jupyter-widgets/controls",
      "model_module_version": "1.5.0",
      "model_name": "DescriptionStyleModel",
      "state": {
       "_model_module": "@jupyter-widgets/controls",
       "_model_module_version": "1.5.0",
       "_model_name": "DescriptionStyleModel",
       "_view_count": null,
       "_view_module": "@jupyter-widgets/base",
       "_view_module_version": "1.2.0",
       "_view_name": "StyleView",
       "description_width": ""
      }
     },
     "911317d32de74fcc902a0886e0344a56": {
      "model_module": "@jupyter-widgets/controls",
      "model_module_version": "1.5.0",
      "model_name": "FloatProgressModel",
      "state": {
       "_dom_classes": [],
       "_model_module": "@jupyter-widgets/controls",
       "_model_module_version": "1.5.0",
       "_model_name": "FloatProgressModel",
       "_view_count": null,
       "_view_module": "@jupyter-widgets/controls",
       "_view_module_version": "1.5.0",
       "_view_name": "ProgressView",
       "bar_style": "success",
       "description": "",
       "description_tooltip": null,
       "layout": "IPY_MODEL_b5396c7540334cdda49cd7a32fca923b",
       "max": 231508.0,
       "min": 0.0,
       "orientation": "horizontal",
       "style": "IPY_MODEL_d013dd641f3c4ba3a17c9e126a053bf5",
       "value": 231508.0
      }
     },
     "91d9b4e907a7479f8ce96cbe3ac560ae": {
      "model_module": "@jupyter-widgets/controls",
      "model_module_version": "1.5.0",
      "model_name": "HBoxModel",
      "state": {
       "_dom_classes": [],
       "_model_module": "@jupyter-widgets/controls",
       "_model_module_version": "1.5.0",
       "_model_name": "HBoxModel",
       "_view_count": null,
       "_view_module": "@jupyter-widgets/controls",
       "_view_module_version": "1.5.0",
       "_view_name": "HBoxView",
       "box_style": "",
       "children": [
        "IPY_MODEL_221727ba2b644ee3813483f63baa0e93",
        "IPY_MODEL_e815bb3da290433e80a04ebad19509ab",
        "IPY_MODEL_a9348e52e48041db98e86dbf58ffeead"
       ],
       "layout": "IPY_MODEL_a4d1044db0f0400a9a3c42f251421527"
      }
     },
     "99d098b3317e43e59fd7ffbaf1cba7e9": {
      "model_module": "@jupyter-widgets/controls",
      "model_module_version": "1.5.0",
      "model_name": "DescriptionStyleModel",
      "state": {
       "_model_module": "@jupyter-widgets/controls",
       "_model_module_version": "1.5.0",
       "_model_name": "DescriptionStyleModel",
       "_view_count": null,
       "_view_module": "@jupyter-widgets/base",
       "_view_module_version": "1.2.0",
       "_view_name": "StyleView",
       "description_width": ""
      }
     },
     "9c2bf6a72a1a4f8db88413f90d2f563b": {
      "model_module": "@jupyter-widgets/base",
      "model_module_version": "1.2.0",
      "model_name": "LayoutModel",
      "state": {
       "_model_module": "@jupyter-widgets/base",
       "_model_module_version": "1.2.0",
       "_model_name": "LayoutModel",
       "_view_count": null,
       "_view_module": "@jupyter-widgets/base",
       "_view_module_version": "1.2.0",
       "_view_name": "LayoutView",
       "align_content": null,
       "align_items": null,
       "align_self": null,
       "border": null,
       "bottom": null,
       "display": null,
       "flex": null,
       "flex_flow": null,
       "grid_area": null,
       "grid_auto_columns": null,
       "grid_auto_flow": null,
       "grid_auto_rows": null,
       "grid_column": null,
       "grid_gap": null,
       "grid_row": null,
       "grid_template_areas": null,
       "grid_template_columns": null,
       "grid_template_rows": null,
       "height": null,
       "justify_content": null,
       "justify_items": null,
       "left": null,
       "margin": null,
       "max_height": null,
       "max_width": null,
       "min_height": null,
       "min_width": null,
       "object_fit": null,
       "object_position": null,
       "order": null,
       "overflow": null,
       "overflow_x": null,
       "overflow_y": null,
       "padding": null,
       "right": null,
       "top": null,
       "visibility": null,
       "width": null
      }
     },
     "9d1be82624944f089f3d40ddf6d7757d": {
      "model_module": "@jupyter-widgets/controls",
      "model_module_version": "1.5.0",
      "model_name": "ProgressStyleModel",
      "state": {
       "_model_module": "@jupyter-widgets/controls",
       "_model_module_version": "1.5.0",
       "_model_name": "ProgressStyleModel",
       "_view_count": null,
       "_view_module": "@jupyter-widgets/base",
       "_view_module_version": "1.2.0",
       "_view_name": "StyleView",
       "bar_color": null,
       "description_width": ""
      }
     },
     "9ea2978ece454110a97687418c924119": {
      "model_module": "@jupyter-widgets/base",
      "model_module_version": "1.2.0",
      "model_name": "LayoutModel",
      "state": {
       "_model_module": "@jupyter-widgets/base",
       "_model_module_version": "1.2.0",
       "_model_name": "LayoutModel",
       "_view_count": null,
       "_view_module": "@jupyter-widgets/base",
       "_view_module_version": "1.2.0",
       "_view_name": "LayoutView",
       "align_content": null,
       "align_items": null,
       "align_self": null,
       "border": null,
       "bottom": null,
       "display": null,
       "flex": null,
       "flex_flow": null,
       "grid_area": null,
       "grid_auto_columns": null,
       "grid_auto_flow": null,
       "grid_auto_rows": null,
       "grid_column": null,
       "grid_gap": null,
       "grid_row": null,
       "grid_template_areas": null,
       "grid_template_columns": null,
       "grid_template_rows": null,
       "height": null,
       "justify_content": null,
       "justify_items": null,
       "left": null,
       "margin": null,
       "max_height": null,
       "max_width": null,
       "min_height": null,
       "min_width": null,
       "object_fit": null,
       "object_position": null,
       "order": null,
       "overflow": null,
       "overflow_x": null,
       "overflow_y": null,
       "padding": null,
       "right": null,
       "top": null,
       "visibility": null,
       "width": null
      }
     },
     "a4d1044db0f0400a9a3c42f251421527": {
      "model_module": "@jupyter-widgets/base",
      "model_module_version": "1.2.0",
      "model_name": "LayoutModel",
      "state": {
       "_model_module": "@jupyter-widgets/base",
       "_model_module_version": "1.2.0",
       "_model_name": "LayoutModel",
       "_view_count": null,
       "_view_module": "@jupyter-widgets/base",
       "_view_module_version": "1.2.0",
       "_view_name": "LayoutView",
       "align_content": null,
       "align_items": null,
       "align_self": null,
       "border": null,
       "bottom": null,
       "display": null,
       "flex": null,
       "flex_flow": null,
       "grid_area": null,
       "grid_auto_columns": null,
       "grid_auto_flow": null,
       "grid_auto_rows": null,
       "grid_column": null,
       "grid_gap": null,
       "grid_row": null,
       "grid_template_areas": null,
       "grid_template_columns": null,
       "grid_template_rows": null,
       "height": null,
       "justify_content": null,
       "justify_items": null,
       "left": null,
       "margin": null,
       "max_height": null,
       "max_width": null,
       "min_height": null,
       "min_width": null,
       "object_fit": null,
       "object_position": null,
       "order": null,
       "overflow": null,
       "overflow_x": null,
       "overflow_y": null,
       "padding": null,
       "right": null,
       "top": null,
       "visibility": null,
       "width": null
      }
     },
     "a9348e52e48041db98e86dbf58ffeead": {
      "model_module": "@jupyter-widgets/controls",
      "model_module_version": "1.5.0",
      "model_name": "HTMLModel",
      "state": {
       "_dom_classes": [],
       "_model_module": "@jupyter-widgets/controls",
       "_model_module_version": "1.5.0",
       "_model_name": "HTMLModel",
       "_view_count": null,
       "_view_module": "@jupyter-widgets/controls",
       "_view_module_version": "1.5.0",
       "_view_name": "HTMLView",
       "description": "",
       "description_tooltip": null,
       "layout": "IPY_MODEL_7658710f31224e829ef088aa684aaa23",
       "placeholder": "​",
       "style": "IPY_MODEL_73392cf390e64da3b0dddc54dd2da925",
       "value": " 28.0/28.0 [00:00&lt;00:00, 861B/s]"
      }
     },
     "b5396c7540334cdda49cd7a32fca923b": {
      "model_module": "@jupyter-widgets/base",
      "model_module_version": "1.2.0",
      "model_name": "LayoutModel",
      "state": {
       "_model_module": "@jupyter-widgets/base",
       "_model_module_version": "1.2.0",
       "_model_name": "LayoutModel",
       "_view_count": null,
       "_view_module": "@jupyter-widgets/base",
       "_view_module_version": "1.2.0",
       "_view_name": "LayoutView",
       "align_content": null,
       "align_items": null,
       "align_self": null,
       "border": null,
       "bottom": null,
       "display": null,
       "flex": null,
       "flex_flow": null,
       "grid_area": null,
       "grid_auto_columns": null,
       "grid_auto_flow": null,
       "grid_auto_rows": null,
       "grid_column": null,
       "grid_gap": null,
       "grid_row": null,
       "grid_template_areas": null,
       "grid_template_columns": null,
       "grid_template_rows": null,
       "height": null,
       "justify_content": null,
       "justify_items": null,
       "left": null,
       "margin": null,
       "max_height": null,
       "max_width": null,
       "min_height": null,
       "min_width": null,
       "object_fit": null,
       "object_position": null,
       "order": null,
       "overflow": null,
       "overflow_x": null,
       "overflow_y": null,
       "padding": null,
       "right": null,
       "top": null,
       "visibility": null,
       "width": null
      }
     },
     "bc93b3feb9d04d49af3863a4305c028f": {
      "model_module": "@jupyter-widgets/base",
      "model_module_version": "1.2.0",
      "model_name": "LayoutModel",
      "state": {
       "_model_module": "@jupyter-widgets/base",
       "_model_module_version": "1.2.0",
       "_model_name": "LayoutModel",
       "_view_count": null,
       "_view_module": "@jupyter-widgets/base",
       "_view_module_version": "1.2.0",
       "_view_name": "LayoutView",
       "align_content": null,
       "align_items": null,
       "align_self": null,
       "border": null,
       "bottom": null,
       "display": null,
       "flex": null,
       "flex_flow": null,
       "grid_area": null,
       "grid_auto_columns": null,
       "grid_auto_flow": null,
       "grid_auto_rows": null,
       "grid_column": null,
       "grid_gap": null,
       "grid_row": null,
       "grid_template_areas": null,
       "grid_template_columns": null,
       "grid_template_rows": null,
       "height": null,
       "justify_content": null,
       "justify_items": null,
       "left": null,
       "margin": null,
       "max_height": null,
       "max_width": null,
       "min_height": null,
       "min_width": null,
       "object_fit": null,
       "object_position": null,
       "order": null,
       "overflow": null,
       "overflow_x": null,
       "overflow_y": null,
       "padding": null,
       "right": null,
       "top": null,
       "visibility": null,
       "width": null
      }
     },
     "bf7d69095c80484c80a2a5f060dc0479": {
      "model_module": "@jupyter-widgets/controls",
      "model_module_version": "1.5.0",
      "model_name": "ProgressStyleModel",
      "state": {
       "_model_module": "@jupyter-widgets/controls",
       "_model_module_version": "1.5.0",
       "_model_name": "ProgressStyleModel",
       "_view_count": null,
       "_view_module": "@jupyter-widgets/base",
       "_view_module_version": "1.2.0",
       "_view_name": "StyleView",
       "bar_color": null,
       "description_width": ""
      }
     },
     "c4056ddf80954178ab33fb25e4ab1db5": {
      "model_module": "@jupyter-widgets/controls",
      "model_module_version": "1.5.0",
      "model_name": "DescriptionStyleModel",
      "state": {
       "_model_module": "@jupyter-widgets/controls",
       "_model_module_version": "1.5.0",
       "_model_name": "DescriptionStyleModel",
       "_view_count": null,
       "_view_module": "@jupyter-widgets/base",
       "_view_module_version": "1.2.0",
       "_view_name": "StyleView",
       "description_width": ""
      }
     },
     "c9481b2485d9437fb69aa32768d12fb9": {
      "model_module": "@jupyter-widgets/base",
      "model_module_version": "1.2.0",
      "model_name": "LayoutModel",
      "state": {
       "_model_module": "@jupyter-widgets/base",
       "_model_module_version": "1.2.0",
       "_model_name": "LayoutModel",
       "_view_count": null,
       "_view_module": "@jupyter-widgets/base",
       "_view_module_version": "1.2.0",
       "_view_name": "LayoutView",
       "align_content": null,
       "align_items": null,
       "align_self": null,
       "border": null,
       "bottom": null,
       "display": null,
       "flex": null,
       "flex_flow": null,
       "grid_area": null,
       "grid_auto_columns": null,
       "grid_auto_flow": null,
       "grid_auto_rows": null,
       "grid_column": null,
       "grid_gap": null,
       "grid_row": null,
       "grid_template_areas": null,
       "grid_template_columns": null,
       "grid_template_rows": null,
       "height": null,
       "justify_content": null,
       "justify_items": null,
       "left": null,
       "margin": null,
       "max_height": null,
       "max_width": null,
       "min_height": null,
       "min_width": null,
       "object_fit": null,
       "object_position": null,
       "order": null,
       "overflow": null,
       "overflow_x": null,
       "overflow_y": null,
       "padding": null,
       "right": null,
       "top": null,
       "visibility": null,
       "width": null
      }
     },
     "cd90bce4bebc4452960510544864fd55": {
      "model_module": "@jupyter-widgets/controls",
      "model_module_version": "1.5.0",
      "model_name": "FloatProgressModel",
      "state": {
       "_dom_classes": [],
       "_model_module": "@jupyter-widgets/controls",
       "_model_module_version": "1.5.0",
       "_model_name": "FloatProgressModel",
       "_view_count": null,
       "_view_module": "@jupyter-widgets/controls",
       "_view_module_version": "1.5.0",
       "_view_name": "ProgressView",
       "bar_style": "success",
       "description": "",
       "description_tooltip": null,
       "layout": "IPY_MODEL_fb38266eb1cc4430b45646f48e56a13f",
       "max": 267967963.0,
       "min": 0.0,
       "orientation": "horizontal",
       "style": "IPY_MODEL_9d1be82624944f089f3d40ddf6d7757d",
       "value": 267967963.0
      }
     },
     "d013dd641f3c4ba3a17c9e126a053bf5": {
      "model_module": "@jupyter-widgets/controls",
      "model_module_version": "1.5.0",
      "model_name": "ProgressStyleModel",
      "state": {
       "_model_module": "@jupyter-widgets/controls",
       "_model_module_version": "1.5.0",
       "_model_name": "ProgressStyleModel",
       "_view_count": null,
       "_view_module": "@jupyter-widgets/base",
       "_view_module_version": "1.2.0",
       "_view_name": "StyleView",
       "bar_color": null,
       "description_width": ""
      }
     },
     "d4c99766d12a4a998bbe9230090c963a": {
      "model_module": "@jupyter-widgets/controls",
      "model_module_version": "1.5.0",
      "model_name": "HBoxModel",
      "state": {
       "_dom_classes": [],
       "_model_module": "@jupyter-widgets/controls",
       "_model_module_version": "1.5.0",
       "_model_name": "HBoxModel",
       "_view_count": null,
       "_view_module": "@jupyter-widgets/controls",
       "_view_module_version": "1.5.0",
       "_view_name": "HBoxView",
       "box_style": "",
       "children": [
        "IPY_MODEL_34c094b14ec4412d8e47718127808da9",
        "IPY_MODEL_0d1f8b6a67124e0e8f0e79bfeed66bbc",
        "IPY_MODEL_60295f01b1e6464cbc212753d3becdc4"
       ],
       "layout": "IPY_MODEL_34281823bc8549478a64d3a016a543c1"
      }
     },
     "df1df4efb6d84d24b80f7c27abe11c71": {
      "model_module": "@jupyter-widgets/controls",
      "model_module_version": "1.5.0",
      "model_name": "DescriptionStyleModel",
      "state": {
       "_model_module": "@jupyter-widgets/controls",
       "_model_module_version": "1.5.0",
       "_model_name": "DescriptionStyleModel",
       "_view_count": null,
       "_view_module": "@jupyter-widgets/base",
       "_view_module_version": "1.2.0",
       "_view_name": "StyleView",
       "description_width": ""
      }
     },
     "e815bb3da290433e80a04ebad19509ab": {
      "model_module": "@jupyter-widgets/controls",
      "model_module_version": "1.5.0",
      "model_name": "FloatProgressModel",
      "state": {
       "_dom_classes": [],
       "_model_module": "@jupyter-widgets/controls",
       "_model_module_version": "1.5.0",
       "_model_name": "FloatProgressModel",
       "_view_count": null,
       "_view_module": "@jupyter-widgets/controls",
       "_view_module_version": "1.5.0",
       "_view_name": "ProgressView",
       "bar_style": "success",
       "description": "",
       "description_tooltip": null,
       "layout": "IPY_MODEL_3b9f05a2f1ed40f7b803146ffb7c7667",
       "max": 28.0,
       "min": 0.0,
       "orientation": "horizontal",
       "style": "IPY_MODEL_bf7d69095c80484c80a2a5f060dc0479",
       "value": 28.0
      }
     },
     "e97f4f4436eb49beb8ee698e3977380c": {
      "model_module": "@jupyter-widgets/controls",
      "model_module_version": "1.5.0",
      "model_name": "HTMLModel",
      "state": {
       "_dom_classes": [],
       "_model_module": "@jupyter-widgets/controls",
       "_model_module_version": "1.5.0",
       "_model_name": "HTMLModel",
       "_view_count": null,
       "_view_module": "@jupyter-widgets/controls",
       "_view_module_version": "1.5.0",
       "_view_name": "HTMLView",
       "description": "",
       "description_tooltip": null,
       "layout": "IPY_MODEL_2ff69abcb91d41e0adcb22b33523376e",
       "placeholder": "​",
       "style": "IPY_MODEL_df1df4efb6d84d24b80f7c27abe11c71",
       "value": " 226k/226k [00:00&lt;00:00, 683kB/s]"
      }
     },
     "f923c2d7fbd04272859b73aacd2870a7": {
      "model_module": "@jupyter-widgets/controls",
      "model_module_version": "1.5.0",
      "model_name": "HTMLModel",
      "state": {
       "_dom_classes": [],
       "_model_module": "@jupyter-widgets/controls",
       "_model_module_version": "1.5.0",
       "_model_name": "HTMLModel",
       "_view_count": null,
       "_view_module": "@jupyter-widgets/controls",
       "_view_module_version": "1.5.0",
       "_view_name": "HTMLView",
       "description": "",
       "description_tooltip": null,
       "layout": "IPY_MODEL_1e2fd5bf8339484eabb0219fcc87990d",
       "placeholder": "​",
       "style": "IPY_MODEL_99d098b3317e43e59fd7ffbaf1cba7e9",
       "value": "Downloading: 100%"
      }
     },
     "fb38266eb1cc4430b45646f48e56a13f": {
      "model_module": "@jupyter-widgets/base",
      "model_module_version": "1.2.0",
      "model_name": "LayoutModel",
      "state": {
       "_model_module": "@jupyter-widgets/base",
       "_model_module_version": "1.2.0",
       "_model_name": "LayoutModel",
       "_view_count": null,
       "_view_module": "@jupyter-widgets/base",
       "_view_module_version": "1.2.0",
       "_view_name": "LayoutView",
       "align_content": null,
       "align_items": null,
       "align_self": null,
       "border": null,
       "bottom": null,
       "display": null,
       "flex": null,
       "flex_flow": null,
       "grid_area": null,
       "grid_auto_columns": null,
       "grid_auto_flow": null,
       "grid_auto_rows": null,
       "grid_column": null,
       "grid_gap": null,
       "grid_row": null,
       "grid_template_areas": null,
       "grid_template_columns": null,
       "grid_template_rows": null,
       "height": null,
       "justify_content": null,
       "justify_items": null,
       "left": null,
       "margin": null,
       "max_height": null,
       "max_width": null,
       "min_height": null,
       "min_width": null,
       "object_fit": null,
       "object_position": null,
       "order": null,
       "overflow": null,
       "overflow_x": null,
       "overflow_y": null,
       "padding": null,
       "right": null,
       "top": null,
       "visibility": null,
       "width": null
      }
     }
    },
    "version_major": 2,
    "version_minor": 0
   }
  }
 },
 "nbformat": 4,
 "nbformat_minor": 5
}
