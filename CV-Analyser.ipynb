{
 "cells": [
  {
   "cell_type": "markdown",
   "id": "4b33e24e",
   "metadata": {
    "execution": {
     "iopub.execute_input": "2022-07-25T06:21:58.586383Z",
     "iopub.status.busy": "2022-07-25T06:21:58.586054Z",
     "iopub.status.idle": "2022-07-25T06:21:58.591776Z",
     "shell.execute_reply": "2022-07-25T06:21:58.590558Z",
     "shell.execute_reply.started": "2022-07-25T06:21:58.586356Z"
    },
    "papermill": {
     "duration": 0.00464,
     "end_time": "2022-07-25T07:32:15.117433",
     "exception": false,
     "start_time": "2022-07-25T07:32:15.112793",
     "status": "completed"
    },
    "tags": []
   },
   "source": [
    "**Locating** the CV Files"
   ]
  },
  {
   "cell_type": "code",
   "execution_count": 1,
   "id": "274b313b",
   "metadata": {
    "_cell_guid": "b1076dfc-b9ad-4769-8c92-a6c4dae69d19",
    "_uuid": "8f2839f25d086af736a60e9eeb907d3b93b6e0e5",
    "execution": {
     "iopub.execute_input": "2022-07-25T07:32:15.127772Z",
     "iopub.status.busy": "2022-07-25T07:32:15.126552Z",
     "iopub.status.idle": "2022-07-25T07:32:15.157462Z",
     "shell.execute_reply": "2022-07-25T07:32:15.155715Z"
    },
    "papermill": {
     "duration": 0.039068,
     "end_time": "2022-07-25T07:32:15.160488",
     "exception": false,
     "start_time": "2022-07-25T07:32:15.121420",
     "status": "completed"
    },
    "tags": []
   },
   "outputs": [
    {
     "data": {
      "text/plain": [
       "['/kaggle/input/cvresume/debika_piriya_dharmalingam - debika piriya.pdf',\n",
       " '/kaggle/input/cvresume/23.pdf',\n",
       " '/kaggle/input/cvresume/25.pdf',\n",
       " '/kaggle/input/cvresume/31.pdf',\n",
       " '/kaggle/input/cvresume/30.pdf',\n",
       " '/kaggle/input/cvresume/24.pdf',\n",
       " '/kaggle/input/cvresume/15.pdf',\n",
       " '/kaggle/input/cvresume/5.pdf',\n",
       " '/kaggle/input/cvresume/29.pdf',\n",
       " '/kaggle/input/cvresume/8.pdf',\n",
       " '/kaggle/input/cvresume/14.pdf',\n",
       " '/kaggle/input/cvresume/17.pdf',\n",
       " '/kaggle/input/cvresume/27.pdf',\n",
       " '/kaggle/input/cvresume/20.pdf',\n",
       " '/kaggle/input/cvresume/26.pdf',\n",
       " '/kaggle/input/cvresume/12.pdf',\n",
       " '/kaggle/input/cvresume/4.pdf',\n",
       " '/kaggle/input/cvresume/19.pdf',\n",
       " '/kaggle/input/cvresume/1.pdf',\n",
       " '/kaggle/input/cvresume/10.pdf',\n",
       " '/kaggle/input/cvresume/22.pdf',\n",
       " '/kaggle/input/cvresume/21.pdf',\n",
       " '/kaggle/input/cvresume/32.pdf',\n",
       " '/kaggle/input/cvresume/28.pdf',\n",
       " '/kaggle/input/cvresume/33.PDF',\n",
       " '/kaggle/input/cvresume/13.pdf',\n",
       " '/kaggle/input/cvresume/16.pdf',\n",
       " '/kaggle/input/cvresume/35.pdf',\n",
       " '/kaggle/input/cvresume/11.pdf',\n",
       " '/kaggle/input/cvresume/3.pdf',\n",
       " '/kaggle/input/cvresume/2.pdf',\n",
       " '/kaggle/input/cvresume/18.pdf']"
      ]
     },
     "execution_count": 1,
     "metadata": {},
     "output_type": "execute_result"
    }
   ],
   "source": [
    "import os\n",
    "files=[]\n",
    "for dirname, _, filenames in os.walk('/kaggle/input'):\n",
    "    for filename in filenames:\n",
    "        files+=[os.path.join(dirname, filename)]\n",
    "files        "
   ]
  },
  {
   "cell_type": "markdown",
   "id": "4a6178ac",
   "metadata": {
    "papermill": {
     "duration": 0.003896,
     "end_time": "2022-07-25T07:32:15.168553",
     "exception": false,
     "start_time": "2022-07-25T07:32:15.164657",
     "status": "completed"
    },
    "tags": []
   },
   "source": [
    "Installing PyPDF2"
   ]
  },
  {
   "cell_type": "code",
   "execution_count": 2,
   "id": "23cbfdbd",
   "metadata": {
    "execution": {
     "iopub.execute_input": "2022-07-25T07:32:15.179210Z",
     "iopub.status.busy": "2022-07-25T07:32:15.178832Z",
     "iopub.status.idle": "2022-07-25T07:32:30.995136Z",
     "shell.execute_reply": "2022-07-25T07:32:30.993973Z"
    },
    "papermill": {
     "duration": 15.825136,
     "end_time": "2022-07-25T07:32:30.998396",
     "exception": false,
     "start_time": "2022-07-25T07:32:15.173260",
     "status": "completed"
    },
    "tags": []
   },
   "outputs": [
    {
     "name": "stdout",
     "output_type": "stream",
     "text": [
      "Collecting PyPDF2\r\n",
      "  Downloading PyPDF2-2.8.0-py3-none-any.whl (204 kB)\r\n",
      "\u001b[2K     \u001b[90m━━━━━━━━━━━━━━━━━━━━━━━━━━━━━━━━━━━━━\u001b[0m \u001b[32m204.7/204.7 kB\u001b[0m \u001b[31m395.5 kB/s\u001b[0m eta \u001b[36m0:00:00\u001b[0m\r\n",
      "\u001b[?25hRequirement already satisfied: typing-extensions in /opt/conda/lib/python3.7/site-packages (from PyPDF2) (4.1.1)\r\n",
      "Installing collected packages: PyPDF2\r\n",
      "Successfully installed PyPDF2-2.8.0\r\n",
      "\u001b[33mWARNING: Running pip as the 'root' user can result in broken permissions and conflicting behaviour with the system package manager. It is recommended to use a virtual environment instead: https://pip.pypa.io/warnings/venv\u001b[0m\u001b[33m\r\n",
      "\u001b[0m"
     ]
    }
   ],
   "source": [
    "!pip install PyPDF2"
   ]
  },
  {
   "cell_type": "markdown",
   "id": "73802fb6",
   "metadata": {
    "papermill": {
     "duration": 0.005068,
     "end_time": "2022-07-25T07:32:31.009430",
     "exception": false,
     "start_time": "2022-07-25T07:32:31.004362",
     "status": "completed"
    },
    "tags": []
   },
   "source": [
    "Importing PyPDF2"
   ]
  },
  {
   "cell_type": "code",
   "execution_count": 3,
   "id": "532239ab",
   "metadata": {
    "execution": {
     "iopub.execute_input": "2022-07-25T07:32:31.021529Z",
     "iopub.status.busy": "2022-07-25T07:32:31.021119Z",
     "iopub.status.idle": "2022-07-25T07:32:31.151814Z",
     "shell.execute_reply": "2022-07-25T07:32:31.150931Z"
    },
    "papermill": {
     "duration": 0.139497,
     "end_time": "2022-07-25T07:32:31.154091",
     "exception": false,
     "start_time": "2022-07-25T07:32:31.014594",
     "status": "completed"
    },
    "tags": []
   },
   "outputs": [
    {
     "data": {
      "text/plain": [
       "' Debika piriya Dharmalingam\\n \\nContact no.:9080686399  \\nEmail: debika.piriyad@gmail.com  \\nLinkedin: www.linkedin.com/in/ debikapiriya -dharmalingam  \\nI’m a growth oriented individual who is currently pursuing bachelors in IT and actively \\nlooking for internship opportunities in the software development field. I love to \\nlogically think and critically analyze the given probl em and crack the solution. I’m an \\nactive self learner and believe in improvising the world through my knowledge  \\n \\n● EDUCATION  \\n○ Bachelors of Technology, BTech  —information technology , 2020 -2024  \\n          Sri Siva Subramaniya Nadar college of Engineering,SSNCE  \\n○ Higher secondary education(class 12)  \\n2018 -2020,Chennai public school  \\n○ High school(class 10)  \\n2018, Everwin Vidhyashram  \\n \\n   \\n● TEST SCORES  \\n○ Btech (till 3rd semester) - 9.3 cgpa  \\n○ Class 12 - 480/500  \\n○ Class 10 - 474/500 -Secured school first  \\n○ JEE - 89.967 percentile( overall India)  \\n \\n \\n● PROJECTS  \\n○ Map navigator for optimal traverse:  \\n■ (2022) - 4th semester  \\n■ Used python libraries,HTML and data structures  \\n■ Project description: Maps are widely used technology in general. \\nHere we attempt to get input as source, destination and any other \\nplaces to be visited from the user. There on, we use folium library \\n, graph d ata structure and dijistra’s algorithm to compute shortest \\npath between source and destination via the place(if any) \\npreferred by user in openstreet map(HTML)  \\n'"
      ]
     },
     "execution_count": 3,
     "metadata": {},
     "output_type": "execute_result"
    }
   ],
   "source": [
    "from PyPDF2 import PdfReader\n",
    "reader = PdfReader(\"/kaggle/input/cvresume/debika_piriya_dharmalingam - debika piriya.pdf\")\n",
    "\n",
    "text=reader.pages[0].extract_text()\n",
    "text"
   ]
  },
  {
   "cell_type": "markdown",
   "id": "f46976b8",
   "metadata": {
    "papermill": {
     "duration": 0.004804,
     "end_time": "2022-07-25T07:32:31.164104",
     "exception": false,
     "start_time": "2022-07-25T07:32:31.159300",
     "status": "completed"
    },
    "tags": []
   },
   "source": [
    "# Importing Spacy for NLP processing and tokenising CV text"
   ]
  },
  {
   "cell_type": "code",
   "execution_count": 4,
   "id": "132d6af3",
   "metadata": {
    "execution": {
     "iopub.execute_input": "2022-07-25T07:32:31.176283Z",
     "iopub.status.busy": "2022-07-25T07:32:31.175700Z",
     "iopub.status.idle": "2022-07-25T07:32:44.597326Z",
     "shell.execute_reply": "2022-07-25T07:32:44.596278Z"
    },
    "papermill": {
     "duration": 13.430475,
     "end_time": "2022-07-25T07:32:44.599680",
     "exception": false,
     "start_time": "2022-07-25T07:32:31.169205",
     "status": "completed"
    },
    "tags": []
   },
   "outputs": [
    {
     "data": {
      "text/plain": [
       " Debika piriya Dharmalingam\n",
       " \n",
       "Contact no.:9080686399  \n",
       "Email: debika.piriyad@gmail.com  \n",
       "Linkedin: www.linkedin.com/in/ debikapiriya -dharmalingam  \n",
       "I’m a growth oriented individual who is currently pursuing bachelors in IT and actively \n",
       "looking for internship opportunities in the software development field. I love to \n",
       "logically think and critically analyze the given probl em and crack the solution. I’m an \n",
       "active self learner and believe in improvising the world through my knowledge  \n",
       " \n",
       "● EDUCATION  \n",
       "○ Bachelors of Technology, BTech  —information technology , 2020 -2024  \n",
       "          Sri Siva Subramaniya Nadar college of Engineering,SSNCE  \n",
       "○ Higher secondary education(class 12)  \n",
       "2018 -2020,Chennai public school  \n",
       "○ High school(class 10)  \n",
       "2018, Everwin Vidhyashram  \n",
       " \n",
       "   \n",
       "● TEST SCORES  \n",
       "○ Btech (till 3rd semester) - 9.3 cgpa  \n",
       "○ Class 12 - 480/500  \n",
       "○ Class 10 - 474/500 -Secured school first  \n",
       "○ JEE - 89.967 percentile( overall India)  \n",
       " \n",
       " \n",
       "● PROJECTS  \n",
       "○ Map navigator for optimal traverse:  \n",
       "■ (2022) - 4th semester  \n",
       "■ Used python libraries,HTML and data structures  \n",
       "■ Project description: Maps are widely used technology in general. \n",
       "Here we attempt to get input as source, destination and any other \n",
       "places to be visited from the user. There on, we use folium library \n",
       ", graph d ata structure and dijistra’s algorithm to compute shortest \n",
       "path between source and destination via the place(if any) \n",
       "preferred by user in openstreet map(HTML)  "
      ]
     },
     "execution_count": 4,
     "metadata": {},
     "output_type": "execute_result"
    }
   ],
   "source": [
    "import spacy\n",
    "nlp = spacy.load(\"en_core_web_sm\")\n",
    "\n",
    "doc=nlp(text)\n",
    "\n",
    "doc"
   ]
  },
  {
   "cell_type": "markdown",
   "id": "6d4ce400",
   "metadata": {
    "papermill": {
     "duration": 0.005296,
     "end_time": "2022-07-25T07:32:44.610353",
     "exception": false,
     "start_time": "2022-07-25T07:32:44.605057",
     "status": "completed"
    },
    "tags": []
   },
   "source": [
    "# Preprocessing our text:\n",
    "\n",
    "1. **Removing unnecessary tokens that we do not need:**\n",
    "We do not need punctuation, currency, digits, spaces, stopwords, and anything which is not alphabetical. Hence we should remove them. We also remove single letters.\n",
    "2. **Lemmatising while adding word tokens to list:** \n",
    "While appending the tokens we are appending the word lemma, this way we ensure that we arent introducing two different words meaning the same.\n",
    "3. **We use set datastructure to create unique keywords only:** This is done by list(set(_variable_name_)) method\n",
    "\n",
    "> This entire process is done by create_tokens() function"
   ]
  },
  {
   "cell_type": "code",
   "execution_count": 5,
   "id": "ccc696a1",
   "metadata": {
    "execution": {
     "iopub.execute_input": "2022-07-25T07:32:44.624606Z",
     "iopub.status.busy": "2022-07-25T07:32:44.623484Z",
     "iopub.status.idle": "2022-07-25T07:32:44.636851Z",
     "shell.execute_reply": "2022-07-25T07:32:44.635611Z"
    },
    "papermill": {
     "duration": 0.023414,
     "end_time": "2022-07-25T07:32:44.639357",
     "exception": false,
     "start_time": "2022-07-25T07:32:44.615943",
     "status": "completed"
    },
    "tags": []
   },
   "outputs": [
    {
     "data": {
      "text/plain": [
       "['graph',\n",
       " 'structure',\n",
       " 'secondary',\n",
       " 'growth',\n",
       " 'Subramaniya',\n",
       " 'currently',\n",
       " 'ata',\n",
       " 'Vidhyashram',\n",
       " 'learner',\n",
       " 'India',\n",
       " 'self',\n",
       " 'folium',\n",
       " 'school',\n",
       " 'Sri',\n",
       " 'project',\n",
       " 'general',\n",
       " 'path',\n",
       " 'Debika',\n",
       " 'look',\n",
       " 'user',\n",
       " 'Dharmalingam',\n",
       " 'development',\n",
       " 'information',\n",
       " 'pursue',\n",
       " 'active',\n",
       " 'EDUCATION',\n",
       " 'Technology',\n",
       " 'SSNCE',\n",
       " 'percentile',\n",
       " 'orient',\n",
       " 'Everwin',\n",
       " 'Class',\n",
       " 'high',\n",
       " 'Siva',\n",
       " 'piriya',\n",
       " 'software',\n",
       " 'email',\n",
       " 'debikapiriya',\n",
       " 'Btech',\n",
       " 'dijistra',\n",
       " 'contact',\n",
       " 'individual',\n",
       " 'Map',\n",
       " 'cgpa',\n",
       " 'traverse',\n",
       " 'solution',\n",
       " 'em',\n",
       " 'Engineering',\n",
       " 'TEST',\n",
       " 'use',\n",
       " 'bachelor',\n",
       " 'improvise',\n",
       " 'navigator',\n",
       " 'college',\n",
       " 'love',\n",
       " 'data',\n",
       " 'visit',\n",
       " 'give',\n",
       " 'probl',\n",
       " 'source',\n",
       " 'opportunity',\n",
       " 'SCORES',\n",
       " 'short',\n",
       " 'critically',\n",
       " 'JEE',\n",
       " 'compute',\n",
       " 'library',\n",
       " 'technology',\n",
       " 'algorithm',\n",
       " 'destination',\n",
       " 'actively',\n",
       " 'logically',\n",
       " 'optimal',\n",
       " 'Bachelors',\n",
       " 'attempt',\n",
       " 'place',\n",
       " 'analyze',\n",
       " 'widely',\n",
       " 'map',\n",
       " 'semester',\n",
       " 'Linkedin',\n",
       " 'prefer',\n",
       " 'python',\n",
       " 'internship',\n",
       " 'Nadar',\n",
       " 'PROJECTS',\n",
       " 'openstreet',\n",
       " 'public',\n",
       " 'crack',\n",
       " 'knowledge',\n",
       " 'field',\n",
       " 'think',\n",
       " 'BTech',\n",
       " 'input',\n",
       " 'description',\n",
       " 'High',\n",
       " 'believe',\n",
       " 'overall',\n",
       " 'world',\n",
       " 'html',\n",
       " 'till']"
      ]
     },
     "execution_count": 5,
     "metadata": {},
     "output_type": "execute_result"
    }
   ],
   "source": [
    "tokens=[]\n",
    "def create_tokens(doc):\n",
    "    tokens=[]\n",
    "    for token in doc:\n",
    "        if not token.is_punct and not token.is_currency and not token.is_digit and not token.is_space and not token.is_stop and not token.like_num and token.is_alpha and len(token)>1:\n",
    "    #         print(token.text, token.lemma_, token.pos_, token.tag_, token.dep_,token.shape_, token.is_alpha, token.is_stop)\n",
    "            tokens.append(token.lemma_)\n",
    "\n",
    "    tokens=list(set(tokens))\n",
    "    return tokens\n",
    "tokens=create_tokens(doc)\n",
    "tokens"
   ]
  },
  {
   "cell_type": "markdown",
   "id": "774d082e",
   "metadata": {
    "papermill": {
     "duration": 0.005256,
     "end_time": "2022-07-25T07:32:44.650272",
     "exception": false,
     "start_time": "2022-07-25T07:32:44.645016",
     "status": "completed"
    },
    "tags": []
   },
   "source": [
    "# Preprocessing tokens for all CVs"
   ]
  },
  {
   "cell_type": "code",
   "execution_count": null,
   "id": "ce77f701",
   "metadata": {
    "papermill": {
     "duration": 0.00537,
     "end_time": "2022-07-25T07:32:44.661855",
     "exception": false,
     "start_time": "2022-07-25T07:32:44.656485",
     "status": "completed"
    },
    "tags": []
   },
   "outputs": [],
   "source": []
  }
 ],
 "metadata": {
  "kernelspec": {
   "display_name": "Python 3",
   "language": "python",
   "name": "python3"
  },
  "language_info": {
   "codemirror_mode": {
    "name": "ipython",
    "version": 3
   },
   "file_extension": ".py",
   "mimetype": "text/x-python",
   "name": "python",
   "nbconvert_exporter": "python",
   "pygments_lexer": "ipython3",
   "version": "3.7.12"
  },
  "papermill": {
   "default_parameters": {},
   "duration": 43.732407,
   "end_time": "2022-07-25T07:32:47.895373",
   "environment_variables": {},
   "exception": null,
   "input_path": "__notebook__.ipynb",
   "output_path": "__notebook__.ipynb",
   "parameters": {},
   "start_time": "2022-07-25T07:32:04.162966",
   "version": "2.3.4"
  }
 },
 "nbformat": 4,
 "nbformat_minor": 5
}
