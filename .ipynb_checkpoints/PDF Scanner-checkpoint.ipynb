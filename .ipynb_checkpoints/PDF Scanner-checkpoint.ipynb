{
 "cells": [
  {
   "cell_type": "markdown",
   "id": "2e8e894a",
   "metadata": {},
   "source": [
    "Loading libraries"
   ]
  },
  {
   "cell_type": "code",
   "execution_count": 33,
   "id": "c4c8cd1f",
   "metadata": {},
   "outputs": [],
   "source": [
    "import PyPDF2, os\n",
    "\n",
    "folder='./Resumes/'\n",
    "files = os.listdir(folder)\n",
    "path=folder+files[-1]"
   ]
  },
  {
   "cell_type": "markdown",
   "id": "f2174872",
   "metadata": {},
   "source": [
    "Scanning pdfs"
   ]
  },
  {
   "cell_type": "code",
   "execution_count": 39,
   "id": "453f003f",
   "metadata": {},
   "outputs": [],
   "source": [
    "def scan(path):\n",
    "    file=open(path,'rb')\n",
    "    pdf=PyPDF2.PdfFileReader(file)\n",
    "    page=pdf.getPage(0)\n",
    "    content=page.extractText()\n",
    "    return content   \n",
    "page=scan(path)"
   ]
  },
  {
   "cell_type": "markdown",
   "id": "cdf72f36",
   "metadata": {},
   "source": [
    "Using spacy to tokenize"
   ]
  },
  {
   "cell_type": "code",
   "execution_count": 45,
   "id": "1b52fe26",
   "metadata": {},
   "outputs": [
    {
     "name": "stdout",
     "output_type": "stream",
     "text": [
      "\n",
      " Debika piriya Dharmalingam\n",
      " \n",
      "Contact no.:9080686399  \n",
      "Email: debika.piriyad@gmail.com  \n",
      "Linkedin: www.linkedin.com/in/ debikapiriya -dharmalingam  \n",
      "I’m a growth oriented individual who is currently pursuing bachelors in IT and actively \n",
      "looking for internship opportunities in the software development field. I love to \n",
      "logically think and critically analyze the given probl em and crack the solution. I’m an \n",
      "active self learner and believe in improvising the world through my knowledge  \n",
      " \n",
      "● EDUCATION  \n",
      "○ Bachelors of Technology, BTech  —information technology , 2020-2024 \n",
      "          Sri Siva Subramaniya Nadar college of Engineering,SSNCE  \n",
      "○ Higher secondary education(class 12)  \n",
      "2018-2020,Chennai public school  \n",
      "○ High school(class 10)  \n",
      "2018, Everwin Vidhyashram  \n",
      " \n",
      "   \n",
      "● TEST SCORES  \n",
      "○ Btech (till 3rd semester) - 9.3 cgpa  \n",
      "○ Class 12 - 480/500  \n",
      "○ Class 10 - 474/500 -Secured school first   \n",
      "○ JEE- 89.967 percentile( overall India)  \n",
      " \n",
      " \n",
      "● PROJECTS  \n",
      "○ Map navigator for optimal traverse:  \n",
      "■ (2022) - 4th semester  \n",
      "■ Used python libraries,HTML and data structures   \n",
      "■ Project description: Maps are widely used technology in general. \n",
      "Here we attempt to get input as source, destination and any other \n",
      "places to be visited from the user. There on, we use folium library \n",
      ", graph d ata structure and dijistra’s algorithm to compute shortest \n",
      "path between source and destination via the place(if any) \n",
      "preferred by user in openstreet map(HTML)  \n",
      "\n",
      "\n",
      " Debika piriya Dharmalingam\n",
      " \n",
      "Contact no.:9080686399  \n",
      "Email: debika.piriyad@gmail.com  \n",
      "Linkedin: www.linkedin.com/in/ debikapiriya -dharmalingam  \n",
      "I’m a growth oriented individual who is currently pursuing bachelors in IT and actively \n",
      "looking for internship opportunities in the software development field. I love to \n",
      "logically think and critically analyze the given probl em and crack the solution. I’m an \n",
      "active self learner and believe in improvising the world through my knowledge  \n",
      " \n",
      "● EDUCATION  \n",
      "○ Bachelors of Technology, BTech  —information technology , 2020-2024 \n",
      "          Sri Siva Subramaniya Nadar college of Engineering,SSNCE  \n",
      "○ Higher secondary education(class 12)  \n",
      "2018-2020,Chennai public school  \n",
      "○ High school(class 10)  \n",
      "2018, Everwin Vidhyashram  \n",
      " \n",
      "   \n",
      "● TEST SCORES  \n",
      "○ Btech (till 3rd semester) - 9.3 cgpa  \n",
      "○ Class 12 - 480/500  \n",
      "○ Class 10 - 474/500 -Secured school first   \n",
      "○ JEE- 89.967 percentile( overall India)  \n",
      " \n",
      " \n",
      "● PROJECTS  \n",
      "○ Map navigator for optimal traverse:  \n",
      "■ (2022) - 4th semester  \n",
      "■ Used python libraries,HTML and data structures   \n",
      "■ Project description: Maps are widely used technology in general. \n",
      "Here we attempt to get input as source, destination and any other \n",
      "places to be visited from the user. There on, we use folium library \n",
      ", graph d ata structure and dijistra’s algorithm to compute shortest \n",
      "path between source and destination via the place(if any) \n",
      "preferred by user in openstreet map(HTML)  \n",
      "\n"
     ]
    }
   ],
   "source": [
    "import spacy\n",
    "nlp=spacy.blank('en')\n",
    "doc=nlp(page)\n",
    "print(doc.text)"
   ]
  }
 ],
 "metadata": {
  "kernelspec": {
   "display_name": "Python 3 (ipykernel)",
   "language": "python",
   "name": "python3"
  },
  "language_info": {
   "codemirror_mode": {
    "name": "ipython",
    "version": 3
   },
   "file_extension": ".py",
   "mimetype": "text/x-python",
   "name": "python",
   "nbconvert_exporter": "python",
   "pygments_lexer": "ipython3",
   "version": "3.10.4"
  }
 },
 "nbformat": 4,
 "nbformat_minor": 5
}
