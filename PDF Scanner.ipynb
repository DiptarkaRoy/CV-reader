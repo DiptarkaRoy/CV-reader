{
 "cells": [
  {
   "cell_type": "markdown",
   "id": "2e8e894a",
   "metadata": {},
   "source": [
    "Loading libraries"
   ]
  },
  {
   "cell_type": "code",
   "execution_count": 11,
   "id": "c4c8cd1f",
   "metadata": {},
   "outputs": [
    {
     "name": "stdout",
     "output_type": "stream",
     "text": [
      "Diptarka Roy Email: diptarkaroy2@gmail.com\n",
      "LinkedIn: diptarka-roy-057a49192/ Mobile: +91-8017350074\n",
      "Github: github.com/DiptarkaRoy\n",
      "Education\n",
      "\n",
      "•Indian Institute of Engineering Science and Technology, Shibpur Howrah, India\n",
      "Bachelor of Technology - Electrical Engineering; GPA: 8.71 July 2019 - June 2023\n",
      "Courses:Electric Machines, Control Systems, Analog Electronics, Digital Electronics, Power Systems, Power Electronics, Electrical\n",
      "Measurement, Microprocessors and Micro-controllers, Transducers and Instrumentation, Signals and Systems\n",
      "Skills Summary\n",
      "\n",
      "•Languages: Python, C, C++, JavaScript, HTML, CSS, MATLAB, Simulink\n",
      "•Frameworks: Pandas, Jupyter Notebook, NodeJS, VueJS, Tailwind.Css, NuxtJS\n",
      "•Tools: Git, GitHub, GitLab\n",
      "•Platforms: Windows, Arduino, NodeMCU\n",
      "•Soft Skills: Time Management, English-Language Proficiency, Problem-Solving\n",
      "•Other Skills: OrCAD, PSpice, Circuit Simulation, Data Structures and Algorithms, Excel, PowerPoint\n",
      "Experience\n",
      "\n",
      "•Tata Projects Limited On-site at Tatanagar\n",
      "Intern June 2022 - Present\n",
      "◦Study on Flue Gas Desulphurisation System, their standards, tests, designing and commissioning\n",
      "requirements.: Studied the entire FGD system and determined the electrical equipments required. Studied about type\n",
      "tests and routine tests of equipments as per IEC and IS standards, designing of system and commissioning requirements.\n",
      "•MHI Internship, Kite - A.M.T.D.C. Remote\n",
      "Intern (Part-time) March 2022 - Present\n",
      "◦Internship Project with AI and ML : Internship under Progress.\n",
      "•IEEE IIESTS Student Branch Remote\n",
      "Webmaster and Member of Executive Committee August 2021 - Present\n",
      "◦Building the Official Website: Built Official Website for posting information regarding events and general information\n",
      "regarding the Student Branch.\n",
      "◦Admin’s Console: Built the Admins control center for dynamically updating website information.\n",
      "◦Executive Decision-making and Managing : Took important decisions regarding up-skilling students of my Institute.\n",
      "Arranged Webinars and Workshops in various domains like Data Analytics, PCB Designing, PLC-programming, etc.\n",
      "◦Impact: Overwhelming participation (i.e. more than 100 participants on average in each session) in Student Branch\n",
      "activities like Webinars and Workshops along with networking with industry leaders.\n",
      "•Instruo - The annual Techno-Management festival of IIEST, Shibpur Remote\n",
      "Front-End Developer January 2020 - December 2020\n",
      "◦Webpage designing and building : Worked on a website using frameworks like Vue.js and TailwindCSS. Entire project\n",
      "was carried out on Gitlab and collaborated with other Front End Team Members.\n",
      "◦Result: My contributions helped the back-end developers to implement back-end programming to display dynamic data.\n",
      "Projects\n",
      "\n",
      "•Smart Water Level Indicator (with Automatic Pump Switching Action) : (College Mini-Project) Designed an\n",
      "automatic pumping system, to reduce excess water wastage in conventional Water Pumping Technologies in Urban India.\n",
      "Designed a prototype and demonstrated a small-scale working model of the system. Analysed the cost effectiveness of the\n",
      "system. (May ’21)\n",
      "Competitions\n",
      "\n",
      "•Flipkart GRiD 3.0: Robotics Challenge : Participated in the Robotics Challenge, where me and my team contructed 4\n",
      "robots run by a NodeMCU micrcontroller which could be controlled with the help of computer vision in a marked arena with\n",
      "the help of a Raspberry Pi. Used Mosquitto MQTT Server as the mode of communication between the Raspberry Pi and\n",
      "NodeMCU. (September ’21)\n",
      "Honors and Awards\n",
      "\n",
      "•Awarded Certificate of Honour by Minister-in-Charge, Co-operation Department, Govt. of West Bengal - June, 2018\n",
      "•Awarded Certificate of Merit by Principal, St. Lawrence High School, Kolkata - December 2017\n",
      "Volunteer Experience\n",
      "\n",
      "•Member of IEEE Kolkata Section Kolkata, India\n",
      "Organized as well as attended events, webinars, workshops, etc. Jan 2018 - Present\n",
      "Interests\n",
      "\n",
      "Music, Guitar, Piano, Power-Lifting.\n"
     ]
    }
   ],
   "source": [
    "import PyPDF2\n",
    "file=open('./Resume_of_Diptarka_Roy.pdf','rb')\n",
    "pdf=PyPDF2.PdfFileReader(file)\n",
    "page=pdf.getPage(0)\n",
    "content=page.extractText()\n",
    "print(content)"
   ]
  }
 ],
 "metadata": {
  "kernelspec": {
   "display_name": "Python 3 (ipykernel)",
   "language": "python",
   "name": "python3"
  },
  "language_info": {
   "codemirror_mode": {
    "name": "ipython",
    "version": 3
   },
   "file_extension": ".py",
   "mimetype": "text/x-python",
   "name": "python",
   "nbconvert_exporter": "python",
   "pygments_lexer": "ipython3",
   "version": "3.10.4"
  }
 },
 "nbformat": 4,
 "nbformat_minor": 5
}
